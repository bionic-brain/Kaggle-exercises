{
 "cells": [
  {
   "cell_type": "markdown",
   "id": "e29e2f4f",
   "metadata": {
    "papermill": {
     "duration": 0.00926,
     "end_time": "2023-05-26T10:49:02.281069",
     "exception": false,
     "start_time": "2023-05-26T10:49:02.271809",
     "status": "completed"
    },
    "tags": []
   },
   "source": [
    "**This notebook is an exercise in the [Data Cleaning](https://www.kaggle.com/learn/data-cleaning) course.  You can reference the tutorial at [this link](https://www.kaggle.com/alexisbcook/parsing-dates).**\n",
    "\n",
    "---\n"
   ]
  },
  {
   "cell_type": "markdown",
   "id": "fae698a4",
   "metadata": {
    "papermill": {
     "duration": 0.00705,
     "end_time": "2023-05-26T10:49:02.295966",
     "exception": false,
     "start_time": "2023-05-26T10:49:02.288916",
     "status": "completed"
    },
    "tags": []
   },
   "source": [
    "In this exercise, you'll apply what you learned in the **Parsing dates** tutorial.\n",
    "\n",
    "# Setup\n",
    "\n",
    "The questions below will give you feedback on your work. Run the following cell to set up the feedback system."
   ]
  },
  {
   "cell_type": "code",
   "execution_count": 1,
   "id": "3cae938c",
   "metadata": {
    "execution": {
     "iopub.execute_input": "2023-05-26T10:49:02.312508Z",
     "iopub.status.busy": "2023-05-26T10:49:02.311996Z",
     "iopub.status.idle": "2023-05-26T10:49:03.793203Z",
     "shell.execute_reply": "2023-05-26T10:49:03.792157Z"
    },
    "papermill": {
     "duration": 1.492204,
     "end_time": "2023-05-26T10:49:03.795585",
     "exception": false,
     "start_time": "2023-05-26T10:49:02.303381",
     "status": "completed"
    },
    "tags": []
   },
   "outputs": [
    {
     "name": "stdout",
     "output_type": "stream",
     "text": [
      "Setup Complete\n"
     ]
    }
   ],
   "source": [
    "from learntools.core import binder\n",
    "binder.bind(globals())\n",
    "from learntools.data_cleaning.ex3 import *\n",
    "print(\"Setup Complete\")"
   ]
  },
  {
   "cell_type": "markdown",
   "id": "27b6a82d",
   "metadata": {
    "papermill": {
     "duration": 0.00699,
     "end_time": "2023-05-26T10:49:03.810139",
     "exception": false,
     "start_time": "2023-05-26T10:49:03.803149",
     "status": "completed"
    },
    "tags": []
   },
   "source": [
    "# Get our environment set up\n",
    "\n",
    "The first thing we'll need to do is load in the libraries and dataset we'll be using. We'll be working with a dataset containing information on earthquakes that occured between 1965 and 2016."
   ]
  },
  {
   "cell_type": "code",
   "execution_count": 2,
   "id": "6460be8f",
   "metadata": {
    "execution": {
     "iopub.execute_input": "2023-05-26T10:49:03.826363Z",
     "iopub.status.busy": "2023-05-26T10:49:03.825971Z",
     "iopub.status.idle": "2023-05-26T10:49:03.910331Z",
     "shell.execute_reply": "2023-05-26T10:49:03.909317Z"
    },
    "papermill": {
     "duration": 0.095438,
     "end_time": "2023-05-26T10:49:03.912819",
     "exception": false,
     "start_time": "2023-05-26T10:49:03.817381",
     "status": "completed"
    },
    "tags": []
   },
   "outputs": [],
   "source": [
    "# modules we'll use\n",
    "import pandas as pd\n",
    "import numpy as np\n",
    "import seaborn as sns\n",
    "import datetime\n",
    "\n",
    "# read in our data\n",
    "earthquakes = pd.read_csv(\"../input/earthquake-database/database.csv\")\n",
    "\n",
    "# set seed for reproducibility\n",
    "np.random.seed(0)"
   ]
  },
  {
   "cell_type": "markdown",
   "id": "ad89f9e3",
   "metadata": {
    "papermill": {
     "duration": 0.006974,
     "end_time": "2023-05-26T10:49:03.927312",
     "exception": false,
     "start_time": "2023-05-26T10:49:03.920338",
     "status": "completed"
    },
    "tags": []
   },
   "source": [
    "# 1) Check the data type of our date column\n",
    "\n",
    "You'll be working with the \"Date\" column from the `earthquakes` dataframe.  Investigate this column now: does it look like it contains dates?  What is the dtype of the column?"
   ]
  },
  {
   "cell_type": "code",
   "execution_count": 3,
   "id": "7c6ffc29",
   "metadata": {
    "execution": {
     "iopub.execute_input": "2023-05-26T10:49:03.943669Z",
     "iopub.status.busy": "2023-05-26T10:49:03.943301Z",
     "iopub.status.idle": "2023-05-26T10:49:03.951149Z",
     "shell.execute_reply": "2023-05-26T10:49:03.950141Z"
    },
    "papermill": {
     "duration": 0.018293,
     "end_time": "2023-05-26T10:49:03.953168",
     "exception": false,
     "start_time": "2023-05-26T10:49:03.934875",
     "status": "completed"
    },
    "tags": []
   },
   "outputs": [
    {
     "data": {
      "text/plain": [
       "dtype('O')"
      ]
     },
     "execution_count": 3,
     "metadata": {},
     "output_type": "execute_result"
    }
   ],
   "source": [
    "# TODO: Your code here!\n",
    "earthquakes['Date'].dtype"
   ]
  },
  {
   "cell_type": "markdown",
   "id": "6a5ed29c",
   "metadata": {
    "papermill": {
     "duration": 0.00726,
     "end_time": "2023-05-26T10:49:03.968479",
     "exception": false,
     "start_time": "2023-05-26T10:49:03.961219",
     "status": "completed"
    },
    "tags": []
   },
   "source": [
    "Once you have answered the question above, run the code cell below to get credit for your work."
   ]
  },
  {
   "cell_type": "code",
   "execution_count": 4,
   "id": "dbf9a4b7",
   "metadata": {
    "execution": {
     "iopub.execute_input": "2023-05-26T10:49:03.984943Z",
     "iopub.status.busy": "2023-05-26T10:49:03.984569Z",
     "iopub.status.idle": "2023-05-26T10:49:03.992905Z",
     "shell.execute_reply": "2023-05-26T10:49:03.992004Z"
    },
    "papermill": {
     "duration": 0.019063,
     "end_time": "2023-05-26T10:49:03.994898",
     "exception": false,
     "start_time": "2023-05-26T10:49:03.975835",
     "status": "completed"
    },
    "tags": []
   },
   "outputs": [
    {
     "data": {
      "application/javascript": [
       "parent.postMessage({\"jupyterEvent\": \"custom.exercise_interaction\", \"data\": {\"outcomeType\": 1, \"valueTowardsCompletion\": 0.25, \"interactionType\": 1, \"questionType\": 4, \"questionId\": \"1_CheckDtype\", \"learnToolsVersion\": \"0.3.4\", \"failureMessage\": \"\", \"exceptionClass\": \"\", \"trace\": \"\"}}, \"*\")"
      ],
      "text/plain": [
       "<IPython.core.display.Javascript object>"
      ]
     },
     "metadata": {},
     "output_type": "display_data"
    },
    {
     "data": {
      "text/markdown": [
       "<span style=\"color:#33cc33\">Correct:</span> \n",
       "\n",
       "The \"Date\" column in the `earthquakes` DataFrame does have dates.  The dtype is \"object\"."
      ],
      "text/plain": [
       "Correct: \n",
       "\n",
       "The \"Date\" column in the `earthquakes` DataFrame does have dates.  The dtype is \"object\"."
      ]
     },
     "metadata": {},
     "output_type": "display_data"
    }
   ],
   "source": [
    "# Check your answer (Run this code cell to receive credit!)\n",
    "q1.check()"
   ]
  },
  {
   "cell_type": "code",
   "execution_count": 5,
   "id": "c678028e",
   "metadata": {
    "execution": {
     "iopub.execute_input": "2023-05-26T10:49:04.012123Z",
     "iopub.status.busy": "2023-05-26T10:49:04.011740Z",
     "iopub.status.idle": "2023-05-26T10:49:04.015822Z",
     "shell.execute_reply": "2023-05-26T10:49:04.014914Z"
    },
    "papermill": {
     "duration": 0.015354,
     "end_time": "2023-05-26T10:49:04.017931",
     "exception": false,
     "start_time": "2023-05-26T10:49:04.002577",
     "status": "completed"
    },
    "tags": []
   },
   "outputs": [],
   "source": [
    "# Line below will give you a hint\n",
    "#q1.hint()"
   ]
  },
  {
   "cell_type": "markdown",
   "id": "27e2c5fb",
   "metadata": {
    "papermill": {
     "duration": 0.007371,
     "end_time": "2023-05-26T10:49:04.033139",
     "exception": false,
     "start_time": "2023-05-26T10:49:04.025768",
     "status": "completed"
    },
    "tags": []
   },
   "source": [
    "# 2) Convert our date columns to datetime\n",
    "\n",
    "Most of the entries in the \"Date\" column follow the same format: \"month/day/four-digit year\".  However, the entry at index 3378 follows a completely different pattern.  Run the code cell below to see this."
   ]
  },
  {
   "cell_type": "code",
   "execution_count": 6,
   "id": "b47592ca",
   "metadata": {
    "execution": {
     "iopub.execute_input": "2023-05-26T10:49:04.050994Z",
     "iopub.status.busy": "2023-05-26T10:49:04.050200Z",
     "iopub.status.idle": "2023-05-26T10:49:04.086396Z",
     "shell.execute_reply": "2023-05-26T10:49:04.085193Z"
    },
    "papermill": {
     "duration": 0.047759,
     "end_time": "2023-05-26T10:49:04.088704",
     "exception": false,
     "start_time": "2023-05-26T10:49:04.040945",
     "status": "completed"
    },
    "tags": []
   },
   "outputs": [
    {
     "data": {
      "text/html": [
       "<div>\n",
       "<style scoped>\n",
       "    .dataframe tbody tr th:only-of-type {\n",
       "        vertical-align: middle;\n",
       "    }\n",
       "\n",
       "    .dataframe tbody tr th {\n",
       "        vertical-align: top;\n",
       "    }\n",
       "\n",
       "    .dataframe thead th {\n",
       "        text-align: right;\n",
       "    }\n",
       "</style>\n",
       "<table border=\"1\" class=\"dataframe\">\n",
       "  <thead>\n",
       "    <tr style=\"text-align: right;\">\n",
       "      <th></th>\n",
       "      <th>Date</th>\n",
       "      <th>Time</th>\n",
       "      <th>Latitude</th>\n",
       "      <th>Longitude</th>\n",
       "      <th>Type</th>\n",
       "      <th>Depth</th>\n",
       "      <th>Depth Error</th>\n",
       "      <th>Depth Seismic Stations</th>\n",
       "      <th>Magnitude</th>\n",
       "      <th>Magnitude Type</th>\n",
       "      <th>...</th>\n",
       "      <th>Magnitude Seismic Stations</th>\n",
       "      <th>Azimuthal Gap</th>\n",
       "      <th>Horizontal Distance</th>\n",
       "      <th>Horizontal Error</th>\n",
       "      <th>Root Mean Square</th>\n",
       "      <th>ID</th>\n",
       "      <th>Source</th>\n",
       "      <th>Location Source</th>\n",
       "      <th>Magnitude Source</th>\n",
       "      <th>Status</th>\n",
       "    </tr>\n",
       "  </thead>\n",
       "  <tbody>\n",
       "    <tr>\n",
       "      <th>3378</th>\n",
       "      <td>1975-02-23T02:58:41.000Z</td>\n",
       "      <td>1975-02-23T02:58:41.000Z</td>\n",
       "      <td>8.017</td>\n",
       "      <td>124.075</td>\n",
       "      <td>Earthquake</td>\n",
       "      <td>623.0</td>\n",
       "      <td>NaN</td>\n",
       "      <td>NaN</td>\n",
       "      <td>5.6</td>\n",
       "      <td>MB</td>\n",
       "      <td>...</td>\n",
       "      <td>NaN</td>\n",
       "      <td>NaN</td>\n",
       "      <td>NaN</td>\n",
       "      <td>NaN</td>\n",
       "      <td>NaN</td>\n",
       "      <td>USP0000A09</td>\n",
       "      <td>US</td>\n",
       "      <td>US</td>\n",
       "      <td>US</td>\n",
       "      <td>Reviewed</td>\n",
       "    </tr>\n",
       "    <tr>\n",
       "      <th>3379</th>\n",
       "      <td>02/23/1975</td>\n",
       "      <td>03:53:36</td>\n",
       "      <td>-21.727</td>\n",
       "      <td>-71.356</td>\n",
       "      <td>Earthquake</td>\n",
       "      <td>33.0</td>\n",
       "      <td>NaN</td>\n",
       "      <td>NaN</td>\n",
       "      <td>5.6</td>\n",
       "      <td>MB</td>\n",
       "      <td>...</td>\n",
       "      <td>NaN</td>\n",
       "      <td>NaN</td>\n",
       "      <td>NaN</td>\n",
       "      <td>NaN</td>\n",
       "      <td>NaN</td>\n",
       "      <td>USP0000A0A</td>\n",
       "      <td>US</td>\n",
       "      <td>US</td>\n",
       "      <td>US</td>\n",
       "      <td>Reviewed</td>\n",
       "    </tr>\n",
       "    <tr>\n",
       "      <th>3380</th>\n",
       "      <td>02/23/1975</td>\n",
       "      <td>07:34:11</td>\n",
       "      <td>-10.879</td>\n",
       "      <td>166.667</td>\n",
       "      <td>Earthquake</td>\n",
       "      <td>33.0</td>\n",
       "      <td>NaN</td>\n",
       "      <td>NaN</td>\n",
       "      <td>5.5</td>\n",
       "      <td>MS</td>\n",
       "      <td>...</td>\n",
       "      <td>NaN</td>\n",
       "      <td>NaN</td>\n",
       "      <td>NaN</td>\n",
       "      <td>NaN</td>\n",
       "      <td>NaN</td>\n",
       "      <td>USP0000A0C</td>\n",
       "      <td>US</td>\n",
       "      <td>US</td>\n",
       "      <td>US</td>\n",
       "      <td>Reviewed</td>\n",
       "    </tr>\n",
       "    <tr>\n",
       "      <th>3381</th>\n",
       "      <td>02/25/1975</td>\n",
       "      <td>05:20:05</td>\n",
       "      <td>-7.388</td>\n",
       "      <td>149.798</td>\n",
       "      <td>Earthquake</td>\n",
       "      <td>33.0</td>\n",
       "      <td>NaN</td>\n",
       "      <td>NaN</td>\n",
       "      <td>5.5</td>\n",
       "      <td>MB</td>\n",
       "      <td>...</td>\n",
       "      <td>NaN</td>\n",
       "      <td>NaN</td>\n",
       "      <td>NaN</td>\n",
       "      <td>NaN</td>\n",
       "      <td>NaN</td>\n",
       "      <td>USP0000A12</td>\n",
       "      <td>US</td>\n",
       "      <td>US</td>\n",
       "      <td>US</td>\n",
       "      <td>Reviewed</td>\n",
       "    </tr>\n",
       "    <tr>\n",
       "      <th>3382</th>\n",
       "      <td>02/26/1975</td>\n",
       "      <td>04:48:55</td>\n",
       "      <td>85.047</td>\n",
       "      <td>97.969</td>\n",
       "      <td>Earthquake</td>\n",
       "      <td>33.0</td>\n",
       "      <td>NaN</td>\n",
       "      <td>NaN</td>\n",
       "      <td>5.6</td>\n",
       "      <td>MS</td>\n",
       "      <td>...</td>\n",
       "      <td>NaN</td>\n",
       "      <td>NaN</td>\n",
       "      <td>NaN</td>\n",
       "      <td>NaN</td>\n",
       "      <td>NaN</td>\n",
       "      <td>USP0000A1H</td>\n",
       "      <td>US</td>\n",
       "      <td>US</td>\n",
       "      <td>US</td>\n",
       "      <td>Reviewed</td>\n",
       "    </tr>\n",
       "  </tbody>\n",
       "</table>\n",
       "<p>5 rows × 21 columns</p>\n",
       "</div>"
      ],
      "text/plain": [
       "                          Date                      Time  Latitude  Longitude  \\\n",
       "3378  1975-02-23T02:58:41.000Z  1975-02-23T02:58:41.000Z     8.017    124.075   \n",
       "3379                02/23/1975                  03:53:36   -21.727    -71.356   \n",
       "3380                02/23/1975                  07:34:11   -10.879    166.667   \n",
       "3381                02/25/1975                  05:20:05    -7.388    149.798   \n",
       "3382                02/26/1975                  04:48:55    85.047     97.969   \n",
       "\n",
       "            Type  Depth  Depth Error  Depth Seismic Stations  Magnitude  \\\n",
       "3378  Earthquake  623.0          NaN                     NaN        5.6   \n",
       "3379  Earthquake   33.0          NaN                     NaN        5.6   \n",
       "3380  Earthquake   33.0          NaN                     NaN        5.5   \n",
       "3381  Earthquake   33.0          NaN                     NaN        5.5   \n",
       "3382  Earthquake   33.0          NaN                     NaN        5.6   \n",
       "\n",
       "     Magnitude Type  ...  Magnitude Seismic Stations  Azimuthal Gap  \\\n",
       "3378             MB  ...                         NaN            NaN   \n",
       "3379             MB  ...                         NaN            NaN   \n",
       "3380             MS  ...                         NaN            NaN   \n",
       "3381             MB  ...                         NaN            NaN   \n",
       "3382             MS  ...                         NaN            NaN   \n",
       "\n",
       "      Horizontal Distance  Horizontal Error  Root Mean Square          ID  \\\n",
       "3378                  NaN               NaN               NaN  USP0000A09   \n",
       "3379                  NaN               NaN               NaN  USP0000A0A   \n",
       "3380                  NaN               NaN               NaN  USP0000A0C   \n",
       "3381                  NaN               NaN               NaN  USP0000A12   \n",
       "3382                  NaN               NaN               NaN  USP0000A1H   \n",
       "\n",
       "     Source Location Source Magnitude Source    Status  \n",
       "3378     US              US               US  Reviewed  \n",
       "3379     US              US               US  Reviewed  \n",
       "3380     US              US               US  Reviewed  \n",
       "3381     US              US               US  Reviewed  \n",
       "3382     US              US               US  Reviewed  \n",
       "\n",
       "[5 rows x 21 columns]"
      ]
     },
     "execution_count": 6,
     "metadata": {},
     "output_type": "execute_result"
    }
   ],
   "source": [
    "earthquakes[3378:3383]"
   ]
  },
  {
   "cell_type": "code",
   "execution_count": 7,
   "id": "ba940fc3",
   "metadata": {
    "execution": {
     "iopub.execute_input": "2023-05-26T10:49:04.106553Z",
     "iopub.status.busy": "2023-05-26T10:49:04.106156Z",
     "iopub.status.idle": "2023-05-26T10:49:04.125495Z",
     "shell.execute_reply": "2023-05-26T10:49:04.124442Z"
    },
    "papermill": {
     "duration": 0.03093,
     "end_time": "2023-05-26T10:49:04.127693",
     "exception": false,
     "start_time": "2023-05-26T10:49:04.096763",
     "status": "completed"
    },
    "tags": []
   },
   "outputs": [
    {
     "data": {
      "text/plain": [
       "count          23412\n",
       "unique         12401\n",
       "top       03/11/2011\n",
       "freq             128\n",
       "Name: Date, dtype: object"
      ]
     },
     "execution_count": 7,
     "metadata": {},
     "output_type": "execute_result"
    }
   ],
   "source": [
    "earthquakes['Date'].describe()"
   ]
  },
  {
   "cell_type": "markdown",
   "id": "1d8c9443",
   "metadata": {
    "papermill": {
     "duration": 0.00792,
     "end_time": "2023-05-26T10:49:04.143973",
     "exception": false,
     "start_time": "2023-05-26T10:49:04.136053",
     "status": "completed"
    },
    "tags": []
   },
   "source": [
    "This does appear to be an issue with data entry: ideally, all entries in the column have the same format.  We can get an idea of how widespread this issue is by checking the length of each entry in the \"Date\" column."
   ]
  },
  {
   "cell_type": "code",
   "execution_count": 8,
   "id": "cb7b256c",
   "metadata": {
    "execution": {
     "iopub.execute_input": "2023-05-26T10:49:04.161995Z",
     "iopub.status.busy": "2023-05-26T10:49:04.161614Z",
     "iopub.status.idle": "2023-05-26T10:49:04.178111Z",
     "shell.execute_reply": "2023-05-26T10:49:04.176858Z"
    },
    "papermill": {
     "duration": 0.028341,
     "end_time": "2023-05-26T10:49:04.180518",
     "exception": false,
     "start_time": "2023-05-26T10:49:04.152177",
     "status": "completed"
    },
    "tags": []
   },
   "outputs": [
    {
     "data": {
      "text/plain": [
       "10    23409\n",
       "24        3\n",
       "Name: Date, dtype: int64"
      ]
     },
     "execution_count": 8,
     "metadata": {},
     "output_type": "execute_result"
    }
   ],
   "source": [
    "date_lengths = earthquakes.Date.str.len()\n",
    "date_lengths.value_counts()"
   ]
  },
  {
   "cell_type": "markdown",
   "id": "4d74885b",
   "metadata": {
    "papermill": {
     "duration": 0.008436,
     "end_time": "2023-05-26T10:49:04.197830",
     "exception": false,
     "start_time": "2023-05-26T10:49:04.189394",
     "status": "completed"
    },
    "tags": []
   },
   "source": [
    "Looks like there are two more rows that has a date in a different format.  Run the code cell below to obtain the indices corresponding to those rows and print the data."
   ]
  },
  {
   "cell_type": "code",
   "execution_count": 9,
   "id": "330cde58",
   "metadata": {
    "execution": {
     "iopub.execute_input": "2023-05-26T10:49:04.216194Z",
     "iopub.status.busy": "2023-05-26T10:49:04.215840Z",
     "iopub.status.idle": "2023-05-26T10:49:04.222661Z",
     "shell.execute_reply": "2023-05-26T10:49:04.221835Z"
    },
    "papermill": {
     "duration": 0.018078,
     "end_time": "2023-05-26T10:49:04.224490",
     "exception": false,
     "start_time": "2023-05-26T10:49:04.206412",
     "status": "completed"
    },
    "tags": []
   },
   "outputs": [
    {
     "data": {
      "text/plain": [
       "0        10\n",
       "1        10\n",
       "2        10\n",
       "3        10\n",
       "4        10\n",
       "         ..\n",
       "23407    10\n",
       "23408    10\n",
       "23409    10\n",
       "23410    10\n",
       "23411    10\n",
       "Name: Date, Length: 23412, dtype: int64"
      ]
     },
     "execution_count": 9,
     "metadata": {},
     "output_type": "execute_result"
    }
   ],
   "source": [
    "date_lengths"
   ]
  },
  {
   "cell_type": "code",
   "execution_count": 10,
   "id": "6f5e411c",
   "metadata": {
    "execution": {
     "iopub.execute_input": "2023-05-26T10:49:04.244200Z",
     "iopub.status.busy": "2023-05-26T10:49:04.243172Z",
     "iopub.status.idle": "2023-05-26T10:49:04.271134Z",
     "shell.execute_reply": "2023-05-26T10:49:04.269919Z"
    },
    "papermill": {
     "duration": 0.039833,
     "end_time": "2023-05-26T10:49:04.273240",
     "exception": false,
     "start_time": "2023-05-26T10:49:04.233407",
     "status": "completed"
    },
    "tags": []
   },
   "outputs": [
    {
     "name": "stdout",
     "output_type": "stream",
     "text": [
      "Indices with corrupted data: [ 3378  7512 20650]\n"
     ]
    },
    {
     "data": {
      "text/html": [
       "<div>\n",
       "<style scoped>\n",
       "    .dataframe tbody tr th:only-of-type {\n",
       "        vertical-align: middle;\n",
       "    }\n",
       "\n",
       "    .dataframe tbody tr th {\n",
       "        vertical-align: top;\n",
       "    }\n",
       "\n",
       "    .dataframe thead th {\n",
       "        text-align: right;\n",
       "    }\n",
       "</style>\n",
       "<table border=\"1\" class=\"dataframe\">\n",
       "  <thead>\n",
       "    <tr style=\"text-align: right;\">\n",
       "      <th></th>\n",
       "      <th>Date</th>\n",
       "      <th>Time</th>\n",
       "      <th>Latitude</th>\n",
       "      <th>Longitude</th>\n",
       "      <th>Type</th>\n",
       "      <th>Depth</th>\n",
       "      <th>Depth Error</th>\n",
       "      <th>Depth Seismic Stations</th>\n",
       "      <th>Magnitude</th>\n",
       "      <th>Magnitude Type</th>\n",
       "      <th>...</th>\n",
       "      <th>Magnitude Seismic Stations</th>\n",
       "      <th>Azimuthal Gap</th>\n",
       "      <th>Horizontal Distance</th>\n",
       "      <th>Horizontal Error</th>\n",
       "      <th>Root Mean Square</th>\n",
       "      <th>ID</th>\n",
       "      <th>Source</th>\n",
       "      <th>Location Source</th>\n",
       "      <th>Magnitude Source</th>\n",
       "      <th>Status</th>\n",
       "    </tr>\n",
       "  </thead>\n",
       "  <tbody>\n",
       "    <tr>\n",
       "      <th>3378</th>\n",
       "      <td>1975-02-23T02:58:41.000Z</td>\n",
       "      <td>1975-02-23T02:58:41.000Z</td>\n",
       "      <td>8.017</td>\n",
       "      <td>124.075</td>\n",
       "      <td>Earthquake</td>\n",
       "      <td>623.0</td>\n",
       "      <td>NaN</td>\n",
       "      <td>NaN</td>\n",
       "      <td>5.6</td>\n",
       "      <td>MB</td>\n",
       "      <td>...</td>\n",
       "      <td>NaN</td>\n",
       "      <td>NaN</td>\n",
       "      <td>NaN</td>\n",
       "      <td>NaN</td>\n",
       "      <td>NaN</td>\n",
       "      <td>USP0000A09</td>\n",
       "      <td>US</td>\n",
       "      <td>US</td>\n",
       "      <td>US</td>\n",
       "      <td>Reviewed</td>\n",
       "    </tr>\n",
       "    <tr>\n",
       "      <th>7512</th>\n",
       "      <td>1985-04-28T02:53:41.530Z</td>\n",
       "      <td>1985-04-28T02:53:41.530Z</td>\n",
       "      <td>-32.998</td>\n",
       "      <td>-71.766</td>\n",
       "      <td>Earthquake</td>\n",
       "      <td>33.0</td>\n",
       "      <td>NaN</td>\n",
       "      <td>NaN</td>\n",
       "      <td>5.6</td>\n",
       "      <td>MW</td>\n",
       "      <td>...</td>\n",
       "      <td>NaN</td>\n",
       "      <td>NaN</td>\n",
       "      <td>NaN</td>\n",
       "      <td>NaN</td>\n",
       "      <td>1.30</td>\n",
       "      <td>USP0002E81</td>\n",
       "      <td>US</td>\n",
       "      <td>US</td>\n",
       "      <td>HRV</td>\n",
       "      <td>Reviewed</td>\n",
       "    </tr>\n",
       "    <tr>\n",
       "      <th>20650</th>\n",
       "      <td>2011-03-13T02:23:34.520Z</td>\n",
       "      <td>2011-03-13T02:23:34.520Z</td>\n",
       "      <td>36.344</td>\n",
       "      <td>142.344</td>\n",
       "      <td>Earthquake</td>\n",
       "      <td>10.1</td>\n",
       "      <td>13.9</td>\n",
       "      <td>289.0</td>\n",
       "      <td>5.8</td>\n",
       "      <td>MWC</td>\n",
       "      <td>...</td>\n",
       "      <td>NaN</td>\n",
       "      <td>32.3</td>\n",
       "      <td>NaN</td>\n",
       "      <td>NaN</td>\n",
       "      <td>1.06</td>\n",
       "      <td>USP000HWQP</td>\n",
       "      <td>US</td>\n",
       "      <td>US</td>\n",
       "      <td>GCMT</td>\n",
       "      <td>Reviewed</td>\n",
       "    </tr>\n",
       "  </tbody>\n",
       "</table>\n",
       "<p>3 rows × 21 columns</p>\n",
       "</div>"
      ],
      "text/plain": [
       "                           Date                      Time  Latitude  \\\n",
       "3378   1975-02-23T02:58:41.000Z  1975-02-23T02:58:41.000Z     8.017   \n",
       "7512   1985-04-28T02:53:41.530Z  1985-04-28T02:53:41.530Z   -32.998   \n",
       "20650  2011-03-13T02:23:34.520Z  2011-03-13T02:23:34.520Z    36.344   \n",
       "\n",
       "       Longitude        Type  Depth  Depth Error  Depth Seismic Stations  \\\n",
       "3378     124.075  Earthquake  623.0          NaN                     NaN   \n",
       "7512     -71.766  Earthquake   33.0          NaN                     NaN   \n",
       "20650    142.344  Earthquake   10.1         13.9                   289.0   \n",
       "\n",
       "       Magnitude Magnitude Type  ...  Magnitude Seismic Stations  \\\n",
       "3378         5.6             MB  ...                         NaN   \n",
       "7512         5.6             MW  ...                         NaN   \n",
       "20650        5.8            MWC  ...                         NaN   \n",
       "\n",
       "       Azimuthal Gap  Horizontal Distance  Horizontal Error  Root Mean Square  \\\n",
       "3378             NaN                  NaN               NaN               NaN   \n",
       "7512             NaN                  NaN               NaN              1.30   \n",
       "20650           32.3                  NaN               NaN              1.06   \n",
       "\n",
       "               ID Source Location Source Magnitude Source    Status  \n",
       "3378   USP0000A09     US              US               US  Reviewed  \n",
       "7512   USP0002E81     US              US              HRV  Reviewed  \n",
       "20650  USP000HWQP     US              US             GCMT  Reviewed  \n",
       "\n",
       "[3 rows x 21 columns]"
      ]
     },
     "execution_count": 10,
     "metadata": {},
     "output_type": "execute_result"
    }
   ],
   "source": [
    "indices = np.where([date_lengths == 24])[1]\n",
    "print('Indices with corrupted data:', indices)\n",
    "earthquakes.loc[indices]"
   ]
  },
  {
   "cell_type": "markdown",
   "id": "f7b58289",
   "metadata": {
    "papermill": {
     "duration": 0.008629,
     "end_time": "2023-05-26T10:49:04.290735",
     "exception": false,
     "start_time": "2023-05-26T10:49:04.282106",
     "status": "completed"
    },
    "tags": []
   },
   "source": [
    "Given all of this information, it's your turn to create a new column \"date_parsed\" in the `earthquakes` dataset that has correctly parsed dates in it.  \n",
    "\n",
    "**Note**: When completing this problem, you are allowed to (but are not required to) amend the entries in the \"Date\" and \"Time\" columns.  Do not remove any rows from the dataset."
   ]
  },
  {
   "cell_type": "code",
   "execution_count": 11,
   "id": "accdfd51",
   "metadata": {
    "execution": {
     "iopub.execute_input": "2023-05-26T10:49:04.310380Z",
     "iopub.status.busy": "2023-05-26T10:49:04.309302Z",
     "iopub.status.idle": "2023-05-26T10:49:04.361708Z",
     "shell.execute_reply": "2023-05-26T10:49:04.360628Z"
    },
    "papermill": {
     "duration": 0.064157,
     "end_time": "2023-05-26T10:49:04.363671",
     "exception": false,
     "start_time": "2023-05-26T10:49:04.299514",
     "status": "completed"
    },
    "tags": []
   },
   "outputs": [
    {
     "data": {
      "application/javascript": [
       "parent.postMessage({\"jupyterEvent\": \"custom.exercise_interaction\", \"data\": {\"outcomeType\": 1, \"valueTowardsCompletion\": 0.25, \"interactionType\": 1, \"questionType\": 2, \"questionId\": \"2_ConvertToDatetime\", \"learnToolsVersion\": \"0.3.4\", \"failureMessage\": \"\", \"exceptionClass\": \"\", \"trace\": \"\"}}, \"*\")"
      ],
      "text/plain": [
       "<IPython.core.display.Javascript object>"
      ]
     },
     "metadata": {},
     "output_type": "display_data"
    },
    {
     "data": {
      "text/markdown": [
       "<span style=\"color:#33cc33\">Correct</span>"
      ],
      "text/plain": [
       "Correct"
      ]
     },
     "metadata": {},
     "output_type": "display_data"
    }
   ],
   "source": [
    "# TODO: Your code here\n",
    "earthquakes.loc[3378, \"Date\"] = \"02/23/1975\"\n",
    "earthquakes.loc[7512, \"Date\"] = \"04/28/1985\"\n",
    "earthquakes.loc[20650, \"Date\"] = \"03/13/2011\"\n",
    "earthquakes['date_parsed'] = pd.to_datetime(earthquakes['Date'], format = \"%m/%d/%Y\")\n",
    "# Check your answer\n",
    "q2.check()"
   ]
  },
  {
   "cell_type": "code",
   "execution_count": 12,
   "id": "af755648",
   "metadata": {
    "execution": {
     "iopub.execute_input": "2023-05-26T10:49:04.383551Z",
     "iopub.status.busy": "2023-05-26T10:49:04.382927Z",
     "iopub.status.idle": "2023-05-26T10:49:04.390883Z",
     "shell.execute_reply": "2023-05-26T10:49:04.389930Z"
    },
    "papermill": {
     "duration": 0.020205,
     "end_time": "2023-05-26T10:49:04.392907",
     "exception": false,
     "start_time": "2023-05-26T10:49:04.372702",
     "status": "completed"
    },
    "tags": []
   },
   "outputs": [
    {
     "data": {
      "text/plain": [
       "0       1965-01-02\n",
       "1       1965-01-04\n",
       "2       1965-01-05\n",
       "3       1965-01-08\n",
       "4       1965-01-09\n",
       "           ...    \n",
       "23407   2016-12-28\n",
       "23408   2016-12-28\n",
       "23409   2016-12-28\n",
       "23410   2016-12-29\n",
       "23411   2016-12-30\n",
       "Name: date_parsed, Length: 23412, dtype: datetime64[ns]"
      ]
     },
     "execution_count": 12,
     "metadata": {},
     "output_type": "execute_result"
    }
   ],
   "source": [
    "earthquakes['date_parsed']"
   ]
  },
  {
   "cell_type": "code",
   "execution_count": 13,
   "id": "72068633",
   "metadata": {
    "execution": {
     "iopub.execute_input": "2023-05-26T10:49:04.413044Z",
     "iopub.status.busy": "2023-05-26T10:49:04.412653Z",
     "iopub.status.idle": "2023-05-26T10:49:04.420659Z",
     "shell.execute_reply": "2023-05-26T10:49:04.419541Z"
    },
    "papermill": {
     "duration": 0.020635,
     "end_time": "2023-05-26T10:49:04.422875",
     "exception": false,
     "start_time": "2023-05-26T10:49:04.402240",
     "status": "completed"
    },
    "tags": []
   },
   "outputs": [
    {
     "data": {
      "application/javascript": [
       "parent.postMessage({\"jupyterEvent\": \"custom.exercise_interaction\", \"data\": {\"interactionType\": 2, \"questionType\": 2, \"questionId\": \"2_ConvertToDatetime\", \"learnToolsVersion\": \"0.3.4\", \"valueTowardsCompletion\": 0.0, \"failureMessage\": \"\", \"exceptionClass\": \"\", \"trace\": \"\", \"outcomeType\": 4}}, \"*\")"
      ],
      "text/plain": [
       "<IPython.core.display.Javascript object>"
      ]
     },
     "metadata": {},
     "output_type": "display_data"
    },
    {
     "data": {
      "text/markdown": [
       "<span style=\"color:#3366cc\">Hint:</span> Since there are only three rows with a fancy type, you might consider manually editing them. For instance, you can begin by setting `earthquakes.loc[3378, \"Date\"] = \"02/23/1975\"`."
      ],
      "text/plain": [
       "Hint: Since there are only three rows with a fancy type, you might consider manually editing them. For instance, you can begin by setting `earthquakes.loc[3378, \"Date\"] = \"02/23/1975\"`."
      ]
     },
     "metadata": {},
     "output_type": "display_data"
    }
   ],
   "source": [
    "# Lines below will give you a hint or solution code\n",
    "q2.hint()\n",
    "#q2.solution()"
   ]
  },
  {
   "cell_type": "markdown",
   "id": "6326db21",
   "metadata": {
    "papermill": {
     "duration": 0.008901,
     "end_time": "2023-05-26T10:49:04.441158",
     "exception": false,
     "start_time": "2023-05-26T10:49:04.432257",
     "status": "completed"
    },
    "tags": []
   },
   "source": [
    "# 3) Select the day of the month\n",
    "\n",
    "Create a Pandas Series `day_of_month_earthquakes` containing the day of the month from the \"date_parsed\" column."
   ]
  },
  {
   "cell_type": "code",
   "execution_count": 14,
   "id": "288118ec",
   "metadata": {
    "execution": {
     "iopub.execute_input": "2023-05-26T10:49:04.461401Z",
     "iopub.status.busy": "2023-05-26T10:49:04.461032Z",
     "iopub.status.idle": "2023-05-26T10:49:04.471489Z",
     "shell.execute_reply": "2023-05-26T10:49:04.470535Z"
    },
    "papermill": {
     "duration": 0.022917,
     "end_time": "2023-05-26T10:49:04.473398",
     "exception": false,
     "start_time": "2023-05-26T10:49:04.450481",
     "status": "completed"
    },
    "tags": []
   },
   "outputs": [
    {
     "data": {
      "application/javascript": [
       "parent.postMessage({\"jupyterEvent\": \"custom.exercise_interaction\", \"data\": {\"outcomeType\": 1, \"valueTowardsCompletion\": 0.25, \"interactionType\": 1, \"questionType\": 1, \"questionId\": \"3_DayOfMonth\", \"learnToolsVersion\": \"0.3.4\", \"failureMessage\": \"\", \"exceptionClass\": \"\", \"trace\": \"\"}}, \"*\")"
      ],
      "text/plain": [
       "<IPython.core.display.Javascript object>"
      ]
     },
     "metadata": {},
     "output_type": "display_data"
    },
    {
     "data": {
      "text/markdown": [
       "<span style=\"color:#33cc33\">Correct</span>"
      ],
      "text/plain": [
       "Correct"
      ]
     },
     "metadata": {},
     "output_type": "display_data"
    }
   ],
   "source": [
    "# try to get the day of the month from the date column\n",
    "day_of_month_earthquakes = earthquakes['date_parsed'].dt.day\n",
    "\n",
    "# Check your answer\n",
    "q3.check()"
   ]
  },
  {
   "cell_type": "code",
   "execution_count": 15,
   "id": "f957284f",
   "metadata": {
    "execution": {
     "iopub.execute_input": "2023-05-26T10:49:04.495743Z",
     "iopub.status.busy": "2023-05-26T10:49:04.494668Z",
     "iopub.status.idle": "2023-05-26T10:49:04.507139Z",
     "shell.execute_reply": "2023-05-26T10:49:04.506203Z"
    },
    "papermill": {
     "duration": 0.025287,
     "end_time": "2023-05-26T10:49:04.509049",
     "exception": false,
     "start_time": "2023-05-26T10:49:04.483762",
     "status": "completed"
    },
    "tags": []
   },
   "outputs": [
    {
     "data": {
      "application/javascript": [
       "parent.postMessage({\"jupyterEvent\": \"custom.exercise_interaction\", \"data\": {\"interactionType\": 2, \"questionType\": 1, \"questionId\": \"3_DayOfMonth\", \"learnToolsVersion\": \"0.3.4\", \"valueTowardsCompletion\": 0.0, \"failureMessage\": \"\", \"exceptionClass\": \"\", \"trace\": \"\", \"outcomeType\": 4}}, \"*\")"
      ],
      "text/plain": [
       "<IPython.core.display.Javascript object>"
      ]
     },
     "metadata": {},
     "output_type": "display_data"
    },
    {
     "data": {
      "text/markdown": [
       "<span style=\"color:#3366cc\">Hint:</span> Use the `.dt` accessor."
      ],
      "text/plain": [
       "Hint: Use the `.dt` accessor."
      ]
     },
     "metadata": {},
     "output_type": "display_data"
    },
    {
     "data": {
      "application/javascript": [
       "parent.postMessage({\"jupyterEvent\": \"custom.exercise_interaction\", \"data\": {\"interactionType\": 3, \"questionType\": 1, \"questionId\": \"3_DayOfMonth\", \"learnToolsVersion\": \"0.3.4\", \"valueTowardsCompletion\": 0.0, \"failureMessage\": \"\", \"exceptionClass\": \"\", \"trace\": \"\", \"outcomeType\": 4}}, \"*\")"
      ],
      "text/plain": [
       "<IPython.core.display.Javascript object>"
      ]
     },
     "metadata": {},
     "output_type": "display_data"
    },
    {
     "data": {
      "text/markdown": [
       "<span style=\"color:#33cc99\">Solution:</span> \n",
       "```python\n",
       "day_of_month_earthquakes = earthquakes['date_parsed'].dt.day\n",
       "\n",
       "```"
      ],
      "text/plain": [
       "Solution: \n",
       "```python\n",
       "day_of_month_earthquakes = earthquakes['date_parsed'].dt.day\n",
       "\n",
       "```"
      ]
     },
     "metadata": {},
     "output_type": "display_data"
    }
   ],
   "source": [
    "# Lines below will give you a hint or solution code\n",
    "q3.hint()\n",
    "q3.solution()"
   ]
  },
  {
   "cell_type": "markdown",
   "id": "fbbcbe07",
   "metadata": {
    "papermill": {
     "duration": 0.009611,
     "end_time": "2023-05-26T10:49:04.528729",
     "exception": false,
     "start_time": "2023-05-26T10:49:04.519118",
     "status": "completed"
    },
    "tags": []
   },
   "source": [
    "# 4) Plot the day of the month to check the date parsing\n",
    "\n",
    "Plot the days of the month from your earthquake dataset."
   ]
  },
  {
   "cell_type": "code",
   "execution_count": 16,
   "id": "210cb687",
   "metadata": {
    "execution": {
     "iopub.execute_input": "2023-05-26T10:49:04.550357Z",
     "iopub.status.busy": "2023-05-26T10:49:04.549953Z",
     "iopub.status.idle": "2023-05-26T10:49:04.915980Z",
     "shell.execute_reply": "2023-05-26T10:49:04.914965Z"
    },
    "papermill": {
     "duration": 0.379332,
     "end_time": "2023-05-26T10:49:04.918092",
     "exception": false,
     "start_time": "2023-05-26T10:49:04.538760",
     "status": "completed"
    },
    "tags": []
   },
   "outputs": [
    {
     "data": {
      "text/plain": [
       "<Axes: xlabel='date_parsed', ylabel='Count'>"
      ]
     },
     "execution_count": 16,
     "metadata": {},
     "output_type": "execute_result"
    },
    {
     "data": {
      "image/png": "[encoded data removed]",
      "text/plain": [
       "<Figure size 640x480 with 1 Axes>"
      ]
     },
     "metadata": {},
     "output_type": "display_data"
    }
   ],
   "source": [
    "# TODO: Your code here!\n",
    "sns.histplot(day_of_month_earthquakes)"
   ]
  },
  {
   "cell_type": "markdown",
   "id": "6693a063",
   "metadata": {
    "papermill": {
     "duration": 0.01008,
     "end_time": "2023-05-26T10:49:04.938699",
     "exception": false,
     "start_time": "2023-05-26T10:49:04.928619",
     "status": "completed"
    },
    "tags": []
   },
   "source": [
    "Does the graph make sense to you?"
   ]
  },
  {
   "cell_type": "code",
   "execution_count": 17,
   "id": "3bb7a7eb",
   "metadata": {
    "execution": {
     "iopub.execute_input": "2023-05-26T10:49:04.961560Z",
     "iopub.status.busy": "2023-05-26T10:49:04.961155Z",
     "iopub.status.idle": "2023-05-26T10:49:04.968315Z",
     "shell.execute_reply": "2023-05-26T10:49:04.967656Z"
    },
    "papermill": {
     "duration": 0.020622,
     "end_time": "2023-05-26T10:49:04.970114",
     "exception": false,
     "start_time": "2023-05-26T10:49:04.949492",
     "status": "completed"
    },
    "tags": []
   },
   "outputs": [
    {
     "data": {
      "application/javascript": [
       "parent.postMessage({\"jupyterEvent\": \"custom.exercise_interaction\", \"data\": {\"outcomeType\": 1, \"valueTowardsCompletion\": 0.25, \"interactionType\": 1, \"questionType\": 4, \"questionId\": \"4_PlotDayOfMonth\", \"learnToolsVersion\": \"0.3.4\", \"failureMessage\": \"\", \"exceptionClass\": \"\", \"trace\": \"\"}}, \"*\")"
      ],
      "text/plain": [
       "<IPython.core.display.Javascript object>"
      ]
     },
     "metadata": {},
     "output_type": "display_data"
    },
    {
     "data": {
      "text/markdown": [
       "<span style=\"color:#33cc33\">Correct:</span> \n",
       "\n",
       "The graph should make sense: it shows a relatively even distribution in days of the month,which is what we would expect."
      ],
      "text/plain": [
       "Correct: \n",
       "\n",
       "The graph should make sense: it shows a relatively even distribution in days of the month,which is what we would expect."
      ]
     },
     "metadata": {},
     "output_type": "display_data"
    }
   ],
   "source": [
    "# Check your answer (Run this code cell to receive credit!)\n",
    "q4.check()"
   ]
  },
  {
   "cell_type": "code",
   "execution_count": 18,
   "id": "d9685526",
   "metadata": {
    "execution": {
     "iopub.execute_input": "2023-05-26T10:49:04.993539Z",
     "iopub.status.busy": "2023-05-26T10:49:04.992452Z",
     "iopub.status.idle": "2023-05-26T10:49:04.997259Z",
     "shell.execute_reply": "2023-05-26T10:49:04.996379Z"
    },
    "papermill": {
     "duration": 0.018572,
     "end_time": "2023-05-26T10:49:04.999308",
     "exception": false,
     "start_time": "2023-05-26T10:49:04.980736",
     "status": "completed"
    },
    "tags": []
   },
   "outputs": [],
   "source": [
    "# Line below will give you a hint\n",
    "#q4.hint()"
   ]
  },
  {
   "cell_type": "markdown",
   "id": "9092cd94",
   "metadata": {
    "papermill": {
     "duration": 0.010469,
     "end_time": "2023-05-26T10:49:05.020719",
     "exception": false,
     "start_time": "2023-05-26T10:49:05.010250",
     "status": "completed"
    },
    "tags": []
   },
   "source": [
    "# (Optional) Bonus Challenge\n",
    "\n",
    "For an extra challenge, you'll work with a [Smithsonian dataset](https://www.kaggle.com/smithsonian/volcanic-eruptions) that documents Earth's volcanoes and their eruptive history over the past 10,000 years \n",
    "\n",
    "Run the next code cell to load the data."
   ]
  },
  {
   "cell_type": "code",
   "execution_count": 19,
   "id": "02f0790b",
   "metadata": {
    "execution": {
     "iopub.execute_input": "2023-05-26T10:49:05.044755Z",
     "iopub.status.busy": "2023-05-26T10:49:05.044112Z",
     "iopub.status.idle": "2023-05-26T10:49:05.069779Z",
     "shell.execute_reply": "2023-05-26T10:49:05.068672Z"
    },
    "papermill": {
     "duration": 0.040265,
     "end_time": "2023-05-26T10:49:05.072294",
     "exception": false,
     "start_time": "2023-05-26T10:49:05.032029",
     "status": "completed"
    },
    "tags": []
   },
   "outputs": [],
   "source": [
    "volcanos = pd.read_csv(\"../input/volcanic-eruptions/database.csv\")"
   ]
  },
  {
   "cell_type": "markdown",
   "id": "afec3199",
   "metadata": {
    "papermill": {
     "duration": 0.010458,
     "end_time": "2023-05-26T10:49:05.093686",
     "exception": false,
     "start_time": "2023-05-26T10:49:05.083228",
     "status": "completed"
    },
    "tags": []
   },
   "source": [
    "Try parsing the column \"Last Known Eruption\" from the `volcanos` dataframe. This column contains a mixture of text (\"Unknown\") and years both before the common era (BCE, also known as BC) and in the common era (CE, also known as AD)."
   ]
  },
  {
   "cell_type": "code",
   "execution_count": 20,
   "id": "583c7d56",
   "metadata": {
    "execution": {
     "iopub.execute_input": "2023-05-26T10:49:05.117128Z",
     "iopub.status.busy": "2023-05-26T10:49:05.116715Z",
     "iopub.status.idle": "2023-05-26T10:49:05.124941Z",
     "shell.execute_reply": "2023-05-26T10:49:05.124038Z"
    },
    "papermill": {
     "duration": 0.022434,
     "end_time": "2023-05-26T10:49:05.126886",
     "exception": false,
     "start_time": "2023-05-26T10:49:05.104452",
     "status": "completed"
    },
    "tags": []
   },
   "outputs": [
    {
     "data": {
      "text/plain": [
       "764     Unknown\n",
       "1069    1996 CE\n",
       "34      1855 CE\n",
       "489     2016 CE\n",
       "9       1302 CE\n",
       "Name: Last Known Eruption, dtype: object"
      ]
     },
     "execution_count": 20,
     "metadata": {},
     "output_type": "execute_result"
    }
   ],
   "source": [
    "volcanos['Last Known Eruption'].sample(5)"
   ]
  },
  {
   "cell_type": "code",
   "execution_count": 21,
   "id": "cf9bfe0c",
   "metadata": {
    "execution": {
     "iopub.execute_input": "2023-05-26T10:49:05.150533Z",
     "iopub.status.busy": "2023-05-26T10:49:05.150132Z",
     "iopub.status.idle": "2023-05-26T10:49:05.158966Z",
     "shell.execute_reply": "2023-05-26T10:49:05.158154Z"
    },
    "papermill": {
     "duration": 0.023074,
     "end_time": "2023-05-26T10:49:05.160933",
     "exception": false,
     "start_time": "2023-05-26T10:49:05.137859",
     "status": "completed"
    },
    "tags": []
   },
   "outputs": [
    {
     "data": {
      "text/plain": [
       "count        1508\n",
       "unique        399\n",
       "top       Unknown\n",
       "freq          637\n",
       "Name: Last Known Eruption, dtype: object"
      ]
     },
     "execution_count": 21,
     "metadata": {},
     "output_type": "execute_result"
    }
   ],
   "source": [
    "volcanos['Last Known Eruption'].describe()"
   ]
  },
  {
   "cell_type": "code",
   "execution_count": 22,
   "id": "fa5ded06",
   "metadata": {
    "execution": {
     "iopub.execute_input": "2023-05-26T10:49:05.184800Z",
     "iopub.status.busy": "2023-05-26T10:49:05.184433Z",
     "iopub.status.idle": "2023-05-26T10:49:05.194034Z",
     "shell.execute_reply": "2023-05-26T10:49:05.192944Z"
    },
    "papermill": {
     "duration": 0.02419,
     "end_time": "2023-05-26T10:49:05.196456",
     "exception": false,
     "start_time": "2023-05-26T10:49:05.172266",
     "status": "completed"
    },
    "tags": []
   },
   "outputs": [
    {
     "data": {
      "text/plain": [
       "7    1312\n",
       "8     129\n",
       "6      62\n",
       "5       3\n",
       "9       1\n",
       "4       1\n",
       "Name: Last Known Eruption, dtype: int64"
      ]
     },
     "execution_count": 22,
     "metadata": {},
     "output_type": "execute_result"
    }
   ],
   "source": [
    "diff_date_len = volcanos['Last Known Eruption'].str.len()\n",
    "diff_date_len.value_counts()"
   ]
  },
  {
   "cell_type": "markdown",
   "id": "4204061b",
   "metadata": {
    "papermill": {
     "duration": 0.01076,
     "end_time": "2023-05-26T10:49:05.218426",
     "exception": false,
     "start_time": "2023-05-26T10:49:05.207666",
     "status": "completed"
    },
    "tags": []
   },
   "source": [
    "# (Optional) More practice\n",
    "\n",
    "If you're interested in graphing time series, [check out this tutorial](https://www.kaggle.com/residentmario/time-series-plotting-optional).\n",
    "\n",
    "You can also look into passing columns that you know have dates in them  the `parse_dates` argument in `read_csv`. (The documention [is here](https://pandas.pydata.org/pandas-docs/stable/generated/pandas.read_csv.html).) Do note that this method can be very slow, but depending on your needs it may sometimes be handy to use.\n",
    "\n",
    "# Keep going\n",
    "\n",
    "In the next lesson, learn how to [**work with character encodings**](https://www.kaggle.com/alexisbcook/character-encodings)."
   ]
  },
  {
   "cell_type": "markdown",
   "id": "858031ce",
   "metadata": {
    "papermill": {
     "duration": 0.011277,
     "end_time": "2023-05-26T10:49:05.241266",
     "exception": false,
     "start_time": "2023-05-26T10:49:05.229989",
     "status": "completed"
    },
    "tags": []
   },
   "source": [
    "---\n",
    "\n",
    "\n",
    "\n",
    "\n",
    "*Have questions or comments? Visit the [course discussion forum](https://www.kaggle.com/learn/data-cleaning/discussion) to chat with other learners.*"
   ]
  }
 ],
 "metadata": {
  "kernelspec": {
   "display_name": "Python 3",
   "language": "python",
   "name": "python3"
  },
  "language_info": {
   "codemirror_mode": {
    "name": "ipython",
    "version": 3
   },
   "file_extension": ".py",
   "mimetype": "text/x-python",
   "name": "python",
   "nbconvert_exporter": "python",
   "pygments_lexer": "ipython3",
   "version": "3.10.10"
  },
  "papermill": {
   "default_parameters": {},
   "duration": 13.434317,
   "end_time": "2023-05-26T10:49:06.174763",
   "environment_variables": {},
   "exception": null,
   "input_path": "__notebook__.ipynb",
   "output_path": "__notebook__.ipynb",
   "parameters": {},
   "start_time": "2023-05-26T10:48:52.740446",
   "version": "2.4.0"
  }
 },
 "nbformat": 4,
 "nbformat_minor": 5
}
