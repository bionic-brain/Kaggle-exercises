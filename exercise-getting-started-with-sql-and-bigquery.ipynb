{
 "cells": [
  {
   "cell_type": "markdown",
   "id": "4413de98",
   "metadata": {
    "papermill": {
     "duration": 0.0076,
     "end_time": "2023-05-24T05:47:22.712340",
     "exception": false,
     "start_time": "2023-05-24T05:47:22.704740",
     "status": "completed"
    },
    "tags": []
   },
   "source": [
    "**This notebook is an exercise in the [SQL](https://www.kaggle.com/learn/intro-to-sql) course.  You can reference the tutorial at [this link](https://www.kaggle.com/dansbecker/getting-started-with-sql-and-bigquery).**\n",
    "\n",
    "---\n"
   ]
  },
  {
   "cell_type": "markdown",
   "id": "00e49905",
   "metadata": {
    "papermill": {
     "duration": 0.006802,
     "end_time": "2023-05-24T05:47:22.726360",
     "exception": false,
     "start_time": "2023-05-24T05:47:22.719558",
     "status": "completed"
    },
    "tags": []
   },
   "source": [
    "# Introduction\n",
    "\n",
    "The first test of your new data exploration skills uses data describing crime in the city of Chicago.\n",
    "\n",
    "Before you get started, run the following cell. It sets up the automated feedback system to review your answers."
   ]
  },
  {
   "cell_type": "code",
   "execution_count": 1,
   "id": "591886dc",
   "metadata": {
    "execution": {
     "iopub.execute_input": "2023-05-24T05:47:22.743154Z",
     "iopub.status.busy": "2023-05-24T05:47:22.742353Z",
     "iopub.status.idle": "2023-05-24T05:47:23.732270Z",
     "shell.execute_reply": "2023-05-24T05:47:23.730728Z"
    },
    "papermill": {
     "duration": 1.001268,
     "end_time": "2023-05-24T05:47:23.734828",
     "exception": false,
     "start_time": "2023-05-24T05:47:22.733560",
     "status": "completed"
    },
    "tags": []
   },
   "outputs": [
    {
     "name": "stdout",
     "output_type": "stream",
     "text": [
      "Using Kaggle's public dataset BigQuery integration.\n",
      "Setup Complete\n"
     ]
    }
   ],
   "source": [
    "# Set up feedack system\n",
    "from learntools.core import binder\n",
    "binder.bind(globals())\n",
    "from learntools.sql.ex1 import *\n",
    "print(\"Setup Complete\")"
   ]
  },
  {
   "cell_type": "markdown",
   "id": "2f723c3d",
   "metadata": {
    "papermill": {
     "duration": 0.007858,
     "end_time": "2023-05-24T05:47:23.750645",
     "exception": false,
     "start_time": "2023-05-24T05:47:23.742787",
     "status": "completed"
    },
    "tags": []
   },
   "source": [
    "Use the next code cell to fetch the dataset."
   ]
  },
  {
   "cell_type": "code",
   "execution_count": 2,
   "id": "9a4d1f50",
   "metadata": {
    "execution": {
     "iopub.execute_input": "2023-05-24T05:47:23.767626Z",
     "iopub.status.busy": "2023-05-24T05:47:23.766984Z",
     "iopub.status.idle": "2023-05-24T05:47:24.083131Z",
     "shell.execute_reply": "2023-05-24T05:47:24.081996Z"
    },
    "papermill": {
     "duration": 0.328555,
     "end_time": "2023-05-24T05:47:24.086594",
     "exception": false,
     "start_time": "2023-05-24T05:47:23.758039",
     "status": "completed"
    },
    "tags": []
   },
   "outputs": [
    {
     "name": "stdout",
     "output_type": "stream",
     "text": [
      "Using Kaggle's public dataset BigQuery integration.\n"
     ]
    }
   ],
   "source": [
    "from google.cloud import bigquery\n",
    "\n",
    "# Create a \"Client\" object\n",
    "client = bigquery.Client()\n",
    "\n",
    "# Construct a reference to the \"chicago_crime\" dataset\n",
    "dataset_ref = client.dataset(\"chicago_crime\", project=\"bigquery-public-data\")\n",
    "\n",
    "# API request - fetch the dataset\n",
    "dataset = client.get_dataset(dataset_ref)"
   ]
  },
  {
   "cell_type": "markdown",
   "id": "46c6f19a",
   "metadata": {
    "papermill": {
     "duration": 0.007267,
     "end_time": "2023-05-24T05:47:24.101808",
     "exception": false,
     "start_time": "2023-05-24T05:47:24.094541",
     "status": "completed"
    },
    "tags": []
   },
   "source": [
    "# Exercises\n",
    "\n",
    "### 1) Count tables in the dataset\n",
    "\n",
    "How many tables are in the Chicago Crime dataset?"
   ]
  },
  {
   "cell_type": "code",
   "execution_count": 3,
   "id": "d90ab5ba",
   "metadata": {
    "execution": {
     "iopub.execute_input": "2023-05-24T05:47:24.120566Z",
     "iopub.status.busy": "2023-05-24T05:47:24.119874Z",
     "iopub.status.idle": "2023-05-24T05:47:24.432914Z",
     "shell.execute_reply": "2023-05-24T05:47:24.431716Z"
    },
    "papermill": {
     "duration": 0.325336,
     "end_time": "2023-05-24T05:47:24.435268",
     "exception": false,
     "start_time": "2023-05-24T05:47:24.109932",
     "status": "completed"
    },
    "tags": []
   },
   "outputs": [
    {
     "data": {
      "text/plain": [
       "[<google.cloud.bigquery.table.TableListItem at 0x79737f243ac0>]"
      ]
     },
     "execution_count": 3,
     "metadata": {},
     "output_type": "execute_result"
    }
   ],
   "source": [
    "# Write the code you need here to figure out the answer\n",
    "list(client.list_tables(dataset))"
   ]
  },
  {
   "cell_type": "code",
   "execution_count": 4,
   "id": "f02ff2be",
   "metadata": {
    "execution": {
     "iopub.execute_input": "2023-05-24T05:47:24.452881Z",
     "iopub.status.busy": "2023-05-24T05:47:24.452003Z",
     "iopub.status.idle": "2023-05-24T05:47:24.715830Z",
     "shell.execute_reply": "2023-05-24T05:47:24.714852Z"
    },
    "papermill": {
     "duration": 0.275412,
     "end_time": "2023-05-24T05:47:24.718250",
     "exception": false,
     "start_time": "2023-05-24T05:47:24.442838",
     "status": "completed"
    },
    "tags": []
   },
   "outputs": [
    {
     "data": {
      "application/javascript": [
       "parent.postMessage({\"jupyterEvent\": \"custom.exercise_interaction\", \"data\": {\"outcomeType\": 1, \"valueTowardsCompletion\": 0.3333333333333333, \"interactionType\": 1, \"questionType\": 1, \"questionId\": \"1_CountTables\", \"learnToolsVersion\": \"0.3.4\", \"failureMessage\": \"\", \"exceptionClass\": \"\", \"trace\": \"\"}}, \"*\")"
      ],
      "text/plain": [
       "<IPython.core.display.Javascript object>"
      ]
     },
     "metadata": {},
     "output_type": "display_data"
    },
    {
     "data": {
      "text/markdown": [
       "<span style=\"color:#33cc33\">Correct</span>"
      ],
      "text/plain": [
       "Correct"
      ]
     },
     "metadata": {},
     "output_type": "display_data"
    }
   ],
   "source": [
    "num_tables = len(list(client.list_tables(dataset)))  # Store the answer as num_tables and then run this cell\n",
    "\n",
    "# Check your answer\n",
    "q_1.check()"
   ]
  },
  {
   "cell_type": "markdown",
   "id": "46ac8d1b",
   "metadata": {
    "papermill": {
     "duration": 0.007492,
     "end_time": "2023-05-24T05:47:24.733632",
     "exception": false,
     "start_time": "2023-05-24T05:47:24.726140",
     "status": "completed"
    },
    "tags": []
   },
   "source": [
    "For a hint or the solution, uncomment the appropriate line below."
   ]
  },
  {
   "cell_type": "code",
   "execution_count": 5,
   "id": "5b4458e9",
   "metadata": {
    "execution": {
     "iopub.execute_input": "2023-05-24T05:47:24.751242Z",
     "iopub.status.busy": "2023-05-24T05:47:24.750590Z",
     "iopub.status.idle": "2023-05-24T05:47:24.763108Z",
     "shell.execute_reply": "2023-05-24T05:47:24.762269Z"
    },
    "papermill": {
     "duration": 0.023946,
     "end_time": "2023-05-24T05:47:24.765462",
     "exception": false,
     "start_time": "2023-05-24T05:47:24.741516",
     "status": "completed"
    },
    "tags": []
   },
   "outputs": [
    {
     "data": {
      "application/javascript": [
       "parent.postMessage({\"jupyterEvent\": \"custom.exercise_interaction\", \"data\": {\"interactionType\": 2, \"questionType\": 1, \"questionId\": \"1_CountTables\", \"learnToolsVersion\": \"0.3.4\", \"valueTowardsCompletion\": 0.0, \"failureMessage\": \"\", \"exceptionClass\": \"\", \"trace\": \"\", \"outcomeType\": 4}}, \"*\")"
      ],
      "text/plain": [
       "<IPython.core.display.Javascript object>"
      ]
     },
     "metadata": {},
     "output_type": "display_data"
    },
    {
     "data": {
      "text/markdown": [
       "<span style=\"color:#3366cc\">Hint:</span> Use the `list_tables()` method to get a list of the tables in the dataset."
      ],
      "text/plain": [
       "Hint: Use the `list_tables()` method to get a list of the tables in the dataset."
      ]
     },
     "metadata": {},
     "output_type": "display_data"
    },
    {
     "data": {
      "application/javascript": [
       "parent.postMessage({\"jupyterEvent\": \"custom.exercise_interaction\", \"data\": {\"interactionType\": 3, \"questionType\": 1, \"questionId\": \"1_CountTables\", \"learnToolsVersion\": \"0.3.4\", \"valueTowardsCompletion\": 0.0, \"failureMessage\": \"\", \"exceptionClass\": \"\", \"trace\": \"\", \"outcomeType\": 4}}, \"*\")"
      ],
      "text/plain": [
       "<IPython.core.display.Javascript object>"
      ]
     },
     "metadata": {},
     "output_type": "display_data"
    },
    {
     "data": {
      "text/markdown": [
       "<span style=\"color:#33cc99\">Solution:</span> \n",
       "```python\n",
       "\n",
       "# List all the tables in the \"chicago_crime\" dataset\n",
       "tables = list(client.list_tables(dataset))\n",
       "\n",
       "# Print number of tables in the dataset\n",
       "print(len(tables))\n",
       "\n",
       "num_tables = 1\n",
       "\n",
       "```"
      ],
      "text/plain": [
       "Solution: \n",
       "```python\n",
       "\n",
       "# List all the tables in the \"chicago_crime\" dataset\n",
       "tables = list(client.list_tables(dataset))\n",
       "\n",
       "# Print number of tables in the dataset\n",
       "print(len(tables))\n",
       "\n",
       "num_tables = 1\n",
       "\n",
       "```"
      ]
     },
     "metadata": {},
     "output_type": "display_data"
    }
   ],
   "source": [
    "q_1.hint()\n",
    "q_1.solution()"
   ]
  },
  {
   "cell_type": "markdown",
   "id": "1938a632",
   "metadata": {
    "papermill": {
     "duration": 0.008597,
     "end_time": "2023-05-24T05:47:24.782845",
     "exception": false,
     "start_time": "2023-05-24T05:47:24.774248",
     "status": "completed"
    },
    "tags": []
   },
   "source": [
    "### 2) Explore the table schema\n",
    "\n",
    "How many columns in the `crime` table have `TIMESTAMP` data?"
   ]
  },
  {
   "cell_type": "code",
   "execution_count": 6,
   "id": "41db5a5f",
   "metadata": {
    "execution": {
     "iopub.execute_input": "2023-05-24T05:47:24.801754Z",
     "iopub.status.busy": "2023-05-24T05:47:24.801371Z",
     "iopub.status.idle": "2023-05-24T05:47:25.147483Z",
     "shell.execute_reply": "2023-05-24T05:47:25.146318Z"
    },
    "papermill": {
     "duration": 0.358902,
     "end_time": "2023-05-24T05:47:25.150343",
     "exception": false,
     "start_time": "2023-05-24T05:47:24.791441",
     "status": "completed"
    },
    "tags": []
   },
   "outputs": [],
   "source": [
    "# Write the code to figure out the answer\n",
    "table_ref = dataset_ref.table(\"crime\")\n",
    "crime_table = client.get_table(table_ref)\n"
   ]
  },
  {
   "cell_type": "code",
   "execution_count": 7,
   "id": "2e34ec6f",
   "metadata": {
    "execution": {
     "iopub.execute_input": "2023-05-24T05:47:25.169855Z",
     "iopub.status.busy": "2023-05-24T05:47:25.168868Z",
     "iopub.status.idle": "2023-05-24T05:47:25.176796Z",
     "shell.execute_reply": "2023-05-24T05:47:25.175833Z"
    },
    "papermill": {
     "duration": 0.020308,
     "end_time": "2023-05-24T05:47:25.179234",
     "exception": false,
     "start_time": "2023-05-24T05:47:25.158926",
     "status": "completed"
    },
    "tags": []
   },
   "outputs": [
    {
     "data": {
      "text/plain": [
       "[SchemaField('unique_key', 'INTEGER', 'REQUIRED', None, (), None),\n",
       " SchemaField('case_number', 'STRING', 'NULLABLE', None, (), None),\n",
       " SchemaField('date', 'TIMESTAMP', 'NULLABLE', None, (), None),\n",
       " SchemaField('block', 'STRING', 'NULLABLE', None, (), None),\n",
       " SchemaField('iucr', 'STRING', 'NULLABLE', None, (), None),\n",
       " SchemaField('primary_type', 'STRING', 'NULLABLE', None, (), None),\n",
       " SchemaField('description', 'STRING', 'NULLABLE', None, (), None),\n",
       " SchemaField('location_description', 'STRING', 'NULLABLE', None, (), None),\n",
       " SchemaField('arrest', 'BOOLEAN', 'NULLABLE', None, (), None),\n",
       " SchemaField('domestic', 'BOOLEAN', 'NULLABLE', None, (), None),\n",
       " SchemaField('beat', 'INTEGER', 'NULLABLE', None, (), None),\n",
       " SchemaField('district', 'INTEGER', 'NULLABLE', None, (), None),\n",
       " SchemaField('ward', 'INTEGER', 'NULLABLE', None, (), None),\n",
       " SchemaField('community_area', 'INTEGER', 'NULLABLE', None, (), None),\n",
       " SchemaField('fbi_code', 'STRING', 'NULLABLE', None, (), None),\n",
       " SchemaField('x_coordinate', 'FLOAT', 'NULLABLE', None, (), None),\n",
       " SchemaField('y_coordinate', 'FLOAT', 'NULLABLE', None, (), None),\n",
       " SchemaField('year', 'INTEGER', 'NULLABLE', None, (), None),\n",
       " SchemaField('updated_on', 'TIMESTAMP', 'NULLABLE', None, (), None),\n",
       " SchemaField('latitude', 'FLOAT', 'NULLABLE', None, (), None),\n",
       " SchemaField('longitude', 'FLOAT', 'NULLABLE', None, (), None),\n",
       " SchemaField('location', 'STRING', 'NULLABLE', None, (), None)]"
      ]
     },
     "execution_count": 7,
     "metadata": {},
     "output_type": "execute_result"
    }
   ],
   "source": [
    "crime_table.schema"
   ]
  },
  {
   "cell_type": "code",
   "execution_count": 8,
   "id": "fce19cb8",
   "metadata": {
    "execution": {
     "iopub.execute_input": "2023-05-24T05:47:25.199250Z",
     "iopub.status.busy": "2023-05-24T05:47:25.198819Z",
     "iopub.status.idle": "2023-05-24T05:47:25.208415Z",
     "shell.execute_reply": "2023-05-24T05:47:25.207272Z"
    },
    "papermill": {
     "duration": 0.022463,
     "end_time": "2023-05-24T05:47:25.210753",
     "exception": false,
     "start_time": "2023-05-24T05:47:25.188290",
     "status": "completed"
    },
    "tags": []
   },
   "outputs": [
    {
     "data": {
      "application/javascript": [
       "parent.postMessage({\"jupyterEvent\": \"custom.exercise_interaction\", \"data\": {\"outcomeType\": 1, \"valueTowardsCompletion\": 0.3333333333333333, \"interactionType\": 1, \"questionType\": 1, \"questionId\": \"2_CountTimestampFields\", \"learnToolsVersion\": \"0.3.4\", \"failureMessage\": \"\", \"exceptionClass\": \"\", \"trace\": \"\"}}, \"*\")"
      ],
      "text/plain": [
       "<IPython.core.display.Javascript object>"
      ]
     },
     "metadata": {},
     "output_type": "display_data"
    },
    {
     "data": {
      "text/markdown": [
       "<span style=\"color:#33cc33\">Correct</span>"
      ],
      "text/plain": [
       "Correct"
      ]
     },
     "metadata": {},
     "output_type": "display_data"
    }
   ],
   "source": [
    "num_timestamp_fields = 2 # Put your answer here\n",
    "\n",
    "# Check your answer\n",
    "q_2.check()"
   ]
  },
  {
   "cell_type": "markdown",
   "id": "cded9483",
   "metadata": {
    "papermill": {
     "duration": 0.008928,
     "end_time": "2023-05-24T05:47:25.228911",
     "exception": false,
     "start_time": "2023-05-24T05:47:25.219983",
     "status": "completed"
    },
    "tags": []
   },
   "source": [
    "For a hint or the solution, uncomment the appropriate line below."
   ]
  },
  {
   "cell_type": "code",
   "execution_count": 9,
   "id": "c4e7cb5c",
   "metadata": {
    "execution": {
     "iopub.execute_input": "2023-05-24T05:47:25.249498Z",
     "iopub.status.busy": "2023-05-24T05:47:25.248681Z",
     "iopub.status.idle": "2023-05-24T05:47:25.257393Z",
     "shell.execute_reply": "2023-05-24T05:47:25.256378Z"
    },
    "papermill": {
     "duration": 0.021803,
     "end_time": "2023-05-24T05:47:25.259841",
     "exception": false,
     "start_time": "2023-05-24T05:47:25.238038",
     "status": "completed"
    },
    "tags": []
   },
   "outputs": [
    {
     "data": {
      "application/javascript": [
       "parent.postMessage({\"jupyterEvent\": \"custom.exercise_interaction\", \"data\": {\"interactionType\": 2, \"questionType\": 1, \"questionId\": \"2_CountTimestampFields\", \"learnToolsVersion\": \"0.3.4\", \"valueTowardsCompletion\": 0.0, \"failureMessage\": \"\", \"exceptionClass\": \"\", \"trace\": \"\", \"outcomeType\": 4}}, \"*\")"
      ],
      "text/plain": [
       "<IPython.core.display.Javascript object>"
      ]
     },
     "metadata": {},
     "output_type": "display_data"
    },
    {
     "data": {
      "text/markdown": [
       "<span style=\"color:#3366cc\">Hint:</span> Begin by fetching the `crime` table. Then take a look at the table schema, and check the field type of each column.  How many times does `'TIMESTAMP'` appear?"
      ],
      "text/plain": [
       "Hint: Begin by fetching the `crime` table. Then take a look at the table schema, and check the field type of each column.  How many times does `'TIMESTAMP'` appear?"
      ]
     },
     "metadata": {},
     "output_type": "display_data"
    }
   ],
   "source": [
    "q_2.hint()\n",
    "#q_2.solution()"
   ]
  },
  {
   "cell_type": "markdown",
   "id": "56152acc",
   "metadata": {
    "papermill": {
     "duration": 0.009184,
     "end_time": "2023-05-24T05:47:25.278397",
     "exception": false,
     "start_time": "2023-05-24T05:47:25.269213",
     "status": "completed"
    },
    "tags": []
   },
   "source": [
    "### 3) Create a crime map\n",
    "\n",
    "If you wanted to create a map with a dot at the location of each crime, what are the names of the two fields you likely need to pull out of the `crime` table to plot the crimes on a map?"
   ]
  },
  {
   "cell_type": "code",
   "execution_count": 10,
   "id": "dc6b3d90",
   "metadata": {
    "execution": {
     "iopub.execute_input": "2023-05-24T05:47:25.299415Z",
     "iopub.status.busy": "2023-05-24T05:47:25.298766Z",
     "iopub.status.idle": "2023-05-24T05:47:25.303053Z",
     "shell.execute_reply": "2023-05-24T05:47:25.302288Z"
    },
    "papermill": {
     "duration": 0.017403,
     "end_time": "2023-05-24T05:47:25.305206",
     "exception": false,
     "start_time": "2023-05-24T05:47:25.287803",
     "status": "completed"
    },
    "tags": []
   },
   "outputs": [],
   "source": [
    "# Write the code here to explore the data so you can find the answer"
   ]
  },
  {
   "cell_type": "code",
   "execution_count": 11,
   "id": "cf283177",
   "metadata": {
    "execution": {
     "iopub.execute_input": "2023-05-24T05:47:25.326374Z",
     "iopub.status.busy": "2023-05-24T05:47:25.325734Z",
     "iopub.status.idle": "2023-05-24T05:47:25.335271Z",
     "shell.execute_reply": "2023-05-24T05:47:25.334109Z"
    },
    "papermill": {
     "duration": 0.023088,
     "end_time": "2023-05-24T05:47:25.337679",
     "exception": false,
     "start_time": "2023-05-24T05:47:25.314591",
     "status": "completed"
    },
    "tags": []
   },
   "outputs": [
    {
     "data": {
      "application/javascript": [
       "parent.postMessage({\"jupyterEvent\": \"custom.exercise_interaction\", \"data\": {\"outcomeType\": 1, \"valueTowardsCompletion\": 0.3333333333333333, \"interactionType\": 1, \"questionType\": 2, \"questionId\": \"3_IdentifyFieldsForPlotting\", \"learnToolsVersion\": \"0.3.4\", \"failureMessage\": \"\", \"exceptionClass\": \"\", \"trace\": \"\"}}, \"*\")"
      ],
      "text/plain": [
       "<IPython.core.display.Javascript object>"
      ]
     },
     "metadata": {},
     "output_type": "display_data"
    },
    {
     "data": {
      "text/markdown": [
       "<span style=\"color:#33cc33\">Correct</span>"
      ],
      "text/plain": [
       "Correct"
      ]
     },
     "metadata": {},
     "output_type": "display_data"
    }
   ],
   "source": [
    "fields_for_plotting = ['Latitude', 'Longitude'] # Put your answers here\n",
    "\n",
    "# Check your answer\n",
    "q_3.check()"
   ]
  },
  {
   "cell_type": "markdown",
   "id": "e5a50df8",
   "metadata": {
    "papermill": {
     "duration": 0.009759,
     "end_time": "2023-05-24T05:47:25.357274",
     "exception": false,
     "start_time": "2023-05-24T05:47:25.347515",
     "status": "completed"
    },
    "tags": []
   },
   "source": [
    "For a hint or the solution, uncomment the appropriate line below."
   ]
  },
  {
   "cell_type": "code",
   "execution_count": 12,
   "id": "1db8660e",
   "metadata": {
    "execution": {
     "iopub.execute_input": "2023-05-24T05:47:25.378730Z",
     "iopub.status.busy": "2023-05-24T05:47:25.378370Z",
     "iopub.status.idle": "2023-05-24T05:47:25.390564Z",
     "shell.execute_reply": "2023-05-24T05:47:25.389485Z"
    },
    "papermill": {
     "duration": 0.026344,
     "end_time": "2023-05-24T05:47:25.393503",
     "exception": false,
     "start_time": "2023-05-24T05:47:25.367159",
     "status": "completed"
    },
    "tags": []
   },
   "outputs": [
    {
     "data": {
      "application/javascript": [
       "parent.postMessage({\"jupyterEvent\": \"custom.exercise_interaction\", \"data\": {\"interactionType\": 2, \"questionType\": 2, \"questionId\": \"3_IdentifyFieldsForPlotting\", \"learnToolsVersion\": \"0.3.4\", \"valueTowardsCompletion\": 0.0, \"failureMessage\": \"\", \"exceptionClass\": \"\", \"trace\": \"\", \"outcomeType\": 4}}, \"*\")"
      ],
      "text/plain": [
       "<IPython.core.display.Javascript object>"
      ]
     },
     "metadata": {},
     "output_type": "display_data"
    },
    {
     "data": {
      "text/markdown": [
       "<span style=\"color:#3366cc\">Hint:</span> Look at the table schema.  There are a couple options, but two of the fields are things commonly used to plot on maps. Both are `'FLOAT'` types. Use quotes around the field names in your answer."
      ],
      "text/plain": [
       "Hint: Look at the table schema.  There are a couple options, but two of the fields are things commonly used to plot on maps. Both are `'FLOAT'` types. Use quotes around the field names in your answer."
      ]
     },
     "metadata": {},
     "output_type": "display_data"
    },
    {
     "data": {
      "application/javascript": [
       "parent.postMessage({\"jupyterEvent\": \"custom.exercise_interaction\", \"data\": {\"interactionType\": 3, \"questionType\": 2, \"questionId\": \"3_IdentifyFieldsForPlotting\", \"learnToolsVersion\": \"0.3.4\", \"valueTowardsCompletion\": 0.0, \"failureMessage\": \"\", \"exceptionClass\": \"\", \"trace\": \"\", \"outcomeType\": 4}}, \"*\")"
      ],
      "text/plain": [
       "<IPython.core.display.Javascript object>"
      ]
     },
     "metadata": {},
     "output_type": "display_data"
    },
    {
     "data": {
      "text/markdown": [
       "<span style=\"color:#33cc99\">Solution:</span> \n",
       "```python\n",
       "fields_for_plotting = ['latitude', 'longitude']\n",
       "```"
      ],
      "text/plain": [
       "Solution: \n",
       "```python\n",
       "fields_for_plotting = ['latitude', 'longitude']\n",
       "```"
      ]
     },
     "metadata": {},
     "output_type": "display_data"
    }
   ],
   "source": [
    "q_3.hint()\n",
    "q_3.solution()"
   ]
  },
  {
   "cell_type": "markdown",
   "id": "4a9ce266",
   "metadata": {
    "papermill": {
     "duration": 0.010242,
     "end_time": "2023-05-24T05:47:25.414175",
     "exception": false,
     "start_time": "2023-05-24T05:47:25.403933",
     "status": "completed"
    },
    "tags": []
   },
   "source": [
    "Thinking about the question above, there are a few columns that appear to have geographic data. Look at a few values (with the `list_rows()` command) to see if you can determine their relationship.  Two columns will still be hard to interpret. But it should be obvious how the `location` column relates to `latitude` and `longitude`."
   ]
  },
  {
   "cell_type": "code",
   "execution_count": 13,
   "id": "2ce58c05",
   "metadata": {
    "execution": {
     "iopub.execute_input": "2023-05-24T05:47:25.437454Z",
     "iopub.status.busy": "2023-05-24T05:47:25.437063Z",
     "iopub.status.idle": "2023-05-24T05:47:25.441534Z",
     "shell.execute_reply": "2023-05-24T05:47:25.440427Z"
    },
    "papermill": {
     "duration": 0.018728,
     "end_time": "2023-05-24T05:47:25.443835",
     "exception": false,
     "start_time": "2023-05-24T05:47:25.425107",
     "status": "completed"
    },
    "tags": []
   },
   "outputs": [],
   "source": [
    "# Scratch space for your code"
   ]
  },
  {
   "cell_type": "markdown",
   "id": "0cbe07c8",
   "metadata": {
    "papermill": {
     "duration": 0.010274,
     "end_time": "2023-05-24T05:47:25.464619",
     "exception": false,
     "start_time": "2023-05-24T05:47:25.454345",
     "status": "completed"
    },
    "tags": []
   },
   "source": [
    "# Keep going\n",
    "\n",
    "You've looked at the schema, but you haven't yet done anything exciting with the data itself. Things get more interesting when you get to the data, so keep going to **[write your first SQL query](https://www.kaggle.com/dansbecker/select-from-where).**"
   ]
  },
  {
   "cell_type": "markdown",
   "id": "4f3a1f6b",
   "metadata": {
    "papermill": {
     "duration": 0.010264,
     "end_time": "2023-05-24T05:47:25.485368",
     "exception": false,
     "start_time": "2023-05-24T05:47:25.475104",
     "status": "completed"
    },
    "tags": []
   },
   "source": [
    "---\n",
    "\n",
    "\n",
    "\n",
    "\n",
    "*Have questions or comments? Visit the [course discussion forum](https://www.kaggle.com/learn/intro-to-sql/discussion) to chat with other learners.*"
   ]
  }
 ],
 "metadata": {
  "kernelspec": {
   "display_name": "Python 3",
   "language": "python",
   "name": "python3"
  },
  "language_info": {
   "codemirror_mode": {
    "name": "ipython",
    "version": 3
   },
   "file_extension": ".py",
   "mimetype": "text/x-python",
   "name": "python",
   "nbconvert_exporter": "python",
   "pygments_lexer": "ipython3",
   "version": "3.10.10"
  },
  "papermill": {
   "default_parameters": {},
   "duration": 16.283448,
   "end_time": "2023-05-24T05:47:26.418114",
   "environment_variables": {},
   "exception": null,
   "input_path": "__notebook__.ipynb",
   "output_path": "__notebook__.ipynb",
   "parameters": {},
   "start_time": "2023-05-24T05:47:10.134666",
   "version": "2.4.0"
  }
 },
 "nbformat": 4,
 "nbformat_minor": 5
}
