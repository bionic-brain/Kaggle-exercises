{
 "cells": [
  {
   "cell_type": "markdown",
   "id": "ea77d0aa",
   "metadata": {
    "papermill": {
     "duration": 0.005122,
     "end_time": "2023-05-26T12:31:32.087378",
     "exception": false,
     "start_time": "2023-05-26T12:31:32.082256",
     "status": "completed"
    },
    "tags": []
   },
   "source": [
    "**This notebook is an exercise in the [Data Cleaning](https://www.kaggle.com/learn/data-cleaning) course.  You can reference the tutorial at [this link](https://www.kaggle.com/alexisbcook/character-encodings).**\n",
    "\n",
    "---\n"
   ]
  },
  {
   "cell_type": "markdown",
   "id": "e11e1b30",
   "metadata": {
    "papermill": {
     "duration": 0.004302,
     "end_time": "2023-05-26T12:31:32.096426",
     "exception": false,
     "start_time": "2023-05-26T12:31:32.092124",
     "status": "completed"
    },
    "tags": []
   },
   "source": [
    "In this exercise, you'll apply what you learned in the **Character encodings** tutorial.\n",
    "\n",
    "# Setup\n",
    "\n",
    "The questions below will give you feedback on your work. Run the following cell to set up the feedback system."
   ]
  },
  {
   "cell_type": "code",
   "execution_count": 1,
   "id": "b48b1228",
   "metadata": {
    "execution": {
     "iopub.execute_input": "2023-05-26T12:31:32.107425Z",
     "iopub.status.busy": "2023-05-26T12:31:32.106940Z",
     "iopub.status.idle": "2023-05-26T12:31:32.197980Z",
     "shell.execute_reply": "2023-05-26T12:31:32.196772Z"
    },
    "papermill": {
     "duration": 0.099206,
     "end_time": "2023-05-26T12:31:32.200237",
     "exception": false,
     "start_time": "2023-05-26T12:31:32.101031",
     "status": "completed"
    },
    "tags": []
   },
   "outputs": [
    {
     "name": "stdout",
     "output_type": "stream",
     "text": [
      "Setup Complete\n"
     ]
    }
   ],
   "source": [
    "from learntools.core import binder\n",
    "binder.bind(globals())\n",
    "from learntools.data_cleaning.ex4 import *\n",
    "print(\"Setup Complete\")"
   ]
  },
  {
   "cell_type": "markdown",
   "id": "9da0cc00",
   "metadata": {
    "papermill": {
     "duration": 0.004551,
     "end_time": "2023-05-26T12:31:32.209593",
     "exception": false,
     "start_time": "2023-05-26T12:31:32.205042",
     "status": "completed"
    },
    "tags": []
   },
   "source": [
    "# Get our environment set up\n",
    "\n",
    "The first thing we'll need to do is load in the libraries we'll be using."
   ]
  },
  {
   "cell_type": "code",
   "execution_count": 2,
   "id": "d97d0c44",
   "metadata": {
    "execution": {
     "iopub.execute_input": "2023-05-26T12:31:32.221103Z",
     "iopub.status.busy": "2023-05-26T12:31:32.220382Z",
     "iopub.status.idle": "2023-05-26T12:31:32.225445Z",
     "shell.execute_reply": "2023-05-26T12:31:32.224535Z"
    },
    "papermill": {
     "duration": 0.013048,
     "end_time": "2023-05-26T12:31:32.227409",
     "exception": false,
     "start_time": "2023-05-26T12:31:32.214361",
     "status": "completed"
    },
    "tags": []
   },
   "outputs": [],
   "source": [
    "# modules we'll use\n",
    "import pandas as pd\n",
    "import numpy as np\n",
    "\n",
    "# helpful character encoding module\n",
    "import charset_normalizer\n",
    "\n",
    "# set seed for reproducibility\n",
    "np.random.seed(0)"
   ]
  },
  {
   "cell_type": "markdown",
   "id": "ef4b48e3",
   "metadata": {
    "papermill": {
     "duration": 0.00605,
     "end_time": "2023-05-26T12:31:32.238283",
     "exception": false,
     "start_time": "2023-05-26T12:31:32.232233",
     "status": "completed"
    },
    "tags": []
   },
   "source": [
    "# 1) What are encodings?\n",
    "\n",
    "You're working with a dataset composed of bytes.  Run the code cell below to print a sample entry."
   ]
  },
  {
   "cell_type": "code",
   "execution_count": 3,
   "id": "3344dd42",
   "metadata": {
    "execution": {
     "iopub.execute_input": "2023-05-26T12:31:32.249815Z",
     "iopub.status.busy": "2023-05-26T12:31:32.249057Z",
     "iopub.status.idle": "2023-05-26T12:31:32.254835Z",
     "shell.execute_reply": "2023-05-26T12:31:32.253719Z"
    },
    "papermill": {
     "duration": 0.014134,
     "end_time": "2023-05-26T12:31:32.257144",
     "exception": false,
     "start_time": "2023-05-26T12:31:32.243010",
     "status": "completed"
    },
    "tags": []
   },
   "outputs": [
    {
     "name": "stdout",
     "output_type": "stream",
     "text": [
      "b'\\xa7A\\xa6n'\n",
      "data type: <class 'bytes'>\n"
     ]
    }
   ],
   "source": [
    "sample_entry = b'\\xa7A\\xa6n'\n",
    "print(sample_entry)\n",
    "print('data type:', type(sample_entry))"
   ]
  },
  {
   "cell_type": "markdown",
   "id": "a65f49cb",
   "metadata": {
    "papermill": {
     "duration": 0.005135,
     "end_time": "2023-05-26T12:31:32.267245",
     "exception": false,
     "start_time": "2023-05-26T12:31:32.262110",
     "status": "completed"
    },
    "tags": []
   },
   "source": [
    "You notice that it doesn't use the standard UTF-8 encoding. \n",
    "\n",
    "Use the next code cell to create a variable `new_entry` that changes the encoding from `\"big5-tw\"` to `\"utf-8\"`.  `new_entry` should have the bytes datatype."
   ]
  },
  {
   "cell_type": "code",
   "execution_count": 4,
   "id": "861f449e",
   "metadata": {
    "execution": {
     "iopub.execute_input": "2023-05-26T12:31:32.279269Z",
     "iopub.status.busy": "2023-05-26T12:31:32.278898Z",
     "iopub.status.idle": "2023-05-26T12:31:32.289333Z",
     "shell.execute_reply": "2023-05-26T12:31:32.288475Z"
    },
    "papermill": {
     "duration": 0.018635,
     "end_time": "2023-05-26T12:31:32.291231",
     "exception": false,
     "start_time": "2023-05-26T12:31:32.272596",
     "status": "completed"
    },
    "tags": []
   },
   "outputs": [
    {
     "data": {
      "application/javascript": [
       "parent.postMessage({\"jupyterEvent\": \"custom.exercise_interaction\", \"data\": {\"outcomeType\": 1, \"valueTowardsCompletion\": 0.3333333333333333, \"interactionType\": 1, \"questionType\": 1, \"questionId\": \"1_EncodingsIntro\", \"learnToolsVersion\": \"0.3.4\", \"failureMessage\": \"\", \"exceptionClass\": \"\", \"trace\": \"\"}}, \"*\")"
      ],
      "text/plain": [
       "<IPython.core.display.Javascript object>"
      ]
     },
     "metadata": {},
     "output_type": "display_data"
    },
    {
     "data": {
      "text/markdown": [
       "<span style=\"color:#33cc33\">Correct</span>"
      ],
      "text/plain": [
       "Correct"
      ]
     },
     "metadata": {},
     "output_type": "display_data"
    }
   ],
   "source": [
    "new_entry = sample_entry.decode(\"big5-tw\")\n",
    "new_entry = new_entry.encode(\"utf-8\", errors = \"replace\")\n",
    "\n",
    "# Check your answer\n",
    "q1.check()"
   ]
  },
  {
   "cell_type": "code",
   "execution_count": 5,
   "id": "f840a7e3",
   "metadata": {
    "execution": {
     "iopub.execute_input": "2023-05-26T12:31:32.303573Z",
     "iopub.status.busy": "2023-05-26T12:31:32.303224Z",
     "iopub.status.idle": "2023-05-26T12:31:32.308451Z",
     "shell.execute_reply": "2023-05-26T12:31:32.307437Z"
    },
    "papermill": {
     "duration": 0.014198,
     "end_time": "2023-05-26T12:31:32.310558",
     "exception": false,
     "start_time": "2023-05-26T12:31:32.296360",
     "status": "completed"
    },
    "tags": []
   },
   "outputs": [
    {
     "data": {
      "text/plain": [
       "b'\\xe4\\xbd\\xa0\\xe5\\xa5\\xbd'"
      ]
     },
     "execution_count": 5,
     "metadata": {},
     "output_type": "execute_result"
    }
   ],
   "source": [
    "new_entry"
   ]
  },
  {
   "cell_type": "code",
   "execution_count": 6,
   "id": "65f10dc2",
   "metadata": {
    "execution": {
     "iopub.execute_input": "2023-05-26T12:31:32.323016Z",
     "iopub.status.busy": "2023-05-26T12:31:32.322348Z",
     "iopub.status.idle": "2023-05-26T12:31:32.330710Z",
     "shell.execute_reply": "2023-05-26T12:31:32.329742Z"
    },
    "papermill": {
     "duration": 0.017023,
     "end_time": "2023-05-26T12:31:32.332782",
     "exception": false,
     "start_time": "2023-05-26T12:31:32.315759",
     "status": "completed"
    },
    "tags": []
   },
   "outputs": [
    {
     "data": {
      "application/javascript": [
       "parent.postMessage({\"jupyterEvent\": \"custom.exercise_interaction\", \"data\": {\"interactionType\": 2, \"questionType\": 1, \"questionId\": \"1_EncodingsIntro\", \"learnToolsVersion\": \"0.3.4\", \"valueTowardsCompletion\": 0.0, \"failureMessage\": \"\", \"exceptionClass\": \"\", \"trace\": \"\", \"outcomeType\": 4}}, \"*\")"
      ],
      "text/plain": [
       "<IPython.core.display.Javascript object>"
      ]
     },
     "metadata": {},
     "output_type": "display_data"
    },
    {
     "data": {
      "text/markdown": [
       "<span style=\"color:#3366cc\">Hint:</span> Try using `.decode()` to get the string, then `.encode()` to get the bytes representation, encoded in UTF-8."
      ],
      "text/plain": [
       "Hint: Try using `.decode()` to get the string, then `.encode()` to get the bytes representation, encoded in UTF-8."
      ]
     },
     "metadata": {},
     "output_type": "display_data"
    }
   ],
   "source": [
    "# Lines below will give you a hint or solution code\n",
    "q1.hint()\n",
    "#q1.solution()"
   ]
  },
  {
   "cell_type": "markdown",
   "id": "0189b736",
   "metadata": {
    "papermill": {
     "duration": 0.005219,
     "end_time": "2023-05-26T12:31:32.343519",
     "exception": false,
     "start_time": "2023-05-26T12:31:32.338300",
     "status": "completed"
    },
    "tags": []
   },
   "source": [
    "# 2) Reading in files with encoding problems\n",
    "\n",
    "Use the code cell below to read in this file at path `\"../input/fatal-police-shootings-in-the-us/PoliceKillingsUS.csv\"`.  \n",
    "\n",
    "Figure out what the correct encoding should be and read in the file to a DataFrame `police_killings`."
   ]
  },
  {
   "cell_type": "code",
   "execution_count": 7,
   "id": "39feee21",
   "metadata": {
    "execution": {
     "iopub.execute_input": "2023-05-26T12:31:32.356467Z",
     "iopub.status.busy": "2023-05-26T12:31:32.356093Z",
     "iopub.status.idle": "2023-05-26T12:31:32.832623Z",
     "shell.execute_reply": "2023-05-26T12:31:32.830988Z"
    },
    "papermill": {
     "duration": 0.486737,
     "end_time": "2023-05-26T12:31:32.835791",
     "exception": false,
     "start_time": "2023-05-26T12:31:32.349054",
     "status": "completed"
    },
    "tags": []
   },
   "outputs": [
    {
     "name": "stdout",
     "output_type": "stream",
     "text": [
      "{'encoding': 'windows-1250', 'language': 'English', 'confidence': 1.0}\n"
     ]
    }
   ],
   "source": [
    "with open(\"../input/fatal-police-shootings-in-the-us/PoliceKillingsUS.csv\", 'rb') as rawdata:\n",
    "    result = charset_normalizer.detect(rawdata.read(100000))\n",
    "print(result)"
   ]
  },
  {
   "cell_type": "code",
   "execution_count": 8,
   "id": "65bcbe68",
   "metadata": {
    "execution": {
     "iopub.execute_input": "2023-05-26T12:31:32.852849Z",
     "iopub.status.busy": "2023-05-26T12:31:32.852441Z",
     "iopub.status.idle": "2023-05-26T12:31:32.880569Z",
     "shell.execute_reply": "2023-05-26T12:31:32.879483Z"
    },
    "papermill": {
     "duration": 0.038547,
     "end_time": "2023-05-26T12:31:32.882742",
     "exception": false,
     "start_time": "2023-05-26T12:31:32.844195",
     "status": "completed"
    },
    "tags": []
   },
   "outputs": [
    {
     "data": {
      "application/javascript": [
       "parent.postMessage({\"jupyterEvent\": \"custom.exercise_interaction\", \"data\": {\"outcomeType\": 1, \"valueTowardsCompletion\": 0.3333333333333333, \"interactionType\": 1, \"questionType\": 1, \"questionId\": \"2_ReadIn\", \"learnToolsVersion\": \"0.3.4\", \"failureMessage\": \"\", \"exceptionClass\": \"\", \"trace\": \"\"}}, \"*\")"
      ],
      "text/plain": [
       "<IPython.core.display.Javascript object>"
      ]
     },
     "metadata": {},
     "output_type": "display_data"
    },
    {
     "data": {
      "text/markdown": [
       "<span style=\"color:#33cc33\">Correct</span>"
      ],
      "text/plain": [
       "Correct"
      ]
     },
     "metadata": {},
     "output_type": "display_data"
    }
   ],
   "source": [
    "# TODO: Load in the DataFrame correctly.\n",
    "\n",
    "police_killings = pd.read_csv(\"../input/fatal-police-shootings-in-the-us/PoliceKillingsUS.csv\", encoding = \"windows-1250\")\n",
    "\n",
    "# Check your answer\n",
    "q2.check()"
   ]
  },
  {
   "cell_type": "markdown",
   "id": "d62bf060",
   "metadata": {
    "papermill": {
     "duration": 0.005467,
     "end_time": "2023-05-26T12:31:32.893849",
     "exception": false,
     "start_time": "2023-05-26T12:31:32.888382",
     "status": "completed"
    },
    "tags": []
   },
   "source": [
    "Feel free to use any additional code cells for supplemental work.  To get credit for finishing this question, you'll need to run `q2.check()` and get a result of **Correct**."
   ]
  },
  {
   "cell_type": "code",
   "execution_count": 9,
   "id": "a6e5f8e6",
   "metadata": {
    "execution": {
     "iopub.execute_input": "2023-05-26T12:31:32.907562Z",
     "iopub.status.busy": "2023-05-26T12:31:32.906420Z",
     "iopub.status.idle": "2023-05-26T12:31:32.911341Z",
     "shell.execute_reply": "2023-05-26T12:31:32.910550Z"
    },
    "papermill": {
     "duration": 0.013832,
     "end_time": "2023-05-26T12:31:32.913435",
     "exception": false,
     "start_time": "2023-05-26T12:31:32.899603",
     "status": "completed"
    },
    "tags": []
   },
   "outputs": [],
   "source": [
    "# (Optional) Use this code cell for any additional work."
   ]
  },
  {
   "cell_type": "code",
   "execution_count": 10,
   "id": "3da75c8b",
   "metadata": {
    "execution": {
     "iopub.execute_input": "2023-05-26T12:31:32.926837Z",
     "iopub.status.busy": "2023-05-26T12:31:32.926416Z",
     "iopub.status.idle": "2023-05-26T12:31:32.934417Z",
     "shell.execute_reply": "2023-05-26T12:31:32.933358Z"
    },
    "papermill": {
     "duration": 0.01733,
     "end_time": "2023-05-26T12:31:32.936602",
     "exception": false,
     "start_time": "2023-05-26T12:31:32.919272",
     "status": "completed"
    },
    "tags": []
   },
   "outputs": [
    {
     "data": {
      "application/javascript": [
       "parent.postMessage({\"jupyterEvent\": \"custom.exercise_interaction\", \"data\": {\"interactionType\": 2, \"questionType\": 1, \"questionId\": \"2_ReadIn\", \"learnToolsVersion\": \"0.3.4\", \"valueTowardsCompletion\": 0.0, \"failureMessage\": \"\", \"exceptionClass\": \"\", \"trace\": \"\", \"outcomeType\": 4}}, \"*\")"
      ],
      "text/plain": [
       "<IPython.core.display.Javascript object>"
      ]
     },
     "metadata": {},
     "output_type": "display_data"
    },
    {
     "data": {
      "text/markdown": [
       "<span style=\"color:#3366cc\">Hint:</span> If you try to guess the encoding with the first 10,000 bytes of the file, it might give you the wrong answer.  Try using 100,000 or more lines of the file."
      ],
      "text/plain": [
       "Hint: If you try to guess the encoding with the first 10,000 bytes of the file, it might give you the wrong answer.  Try using 100,000 or more lines of the file."
      ]
     },
     "metadata": {},
     "output_type": "display_data"
    }
   ],
   "source": [
    "# Lines below will give you a hint or solution code\n",
    "q2.hint()\n",
    "#q2.solution()"
   ]
  },
  {
   "cell_type": "markdown",
   "id": "54e69efe",
   "metadata": {
    "papermill": {
     "duration": 0.005893,
     "end_time": "2023-05-26T12:31:32.948683",
     "exception": false,
     "start_time": "2023-05-26T12:31:32.942790",
     "status": "completed"
    },
    "tags": []
   },
   "source": [
    "# 3) Saving your files with UTF-8 encoding\n",
    "\n",
    "Save a version of the police killings dataset to CSV with UTF-8 encoding.  Your answer will be marked correct after saving this file.  \n",
    "\n",
    "Note: When using the `to_csv()` method, supply only the name of the file (e.g., `\"my_file.csv\"`).  This saves the file at the filepath `\"/kaggle/working/my_file.csv\"`."
   ]
  },
  {
   "cell_type": "code",
   "execution_count": 11,
   "id": "20d90cd5",
   "metadata": {
    "execution": {
     "iopub.execute_input": "2023-05-26T12:31:32.962437Z",
     "iopub.status.busy": "2023-05-26T12:31:32.962053Z",
     "iopub.status.idle": "2023-05-26T12:31:33.003947Z",
     "shell.execute_reply": "2023-05-26T12:31:33.002762Z"
    },
    "papermill": {
     "duration": 0.051545,
     "end_time": "2023-05-26T12:31:33.006270",
     "exception": false,
     "start_time": "2023-05-26T12:31:32.954725",
     "status": "completed"
    },
    "tags": []
   },
   "outputs": [
    {
     "data": {
      "application/javascript": [
       "parent.postMessage({\"jupyterEvent\": \"custom.exercise_interaction\", \"data\": {\"outcomeType\": 1, \"valueTowardsCompletion\": 0.3333333333333333, \"interactionType\": 1, \"questionType\": 2, \"questionId\": \"3_SaveCSV\", \"learnToolsVersion\": \"0.3.4\", \"failureMessage\": \"\", \"exceptionClass\": \"\", \"trace\": \"\"}}, \"*\")"
      ],
      "text/plain": [
       "<IPython.core.display.Javascript object>"
      ]
     },
     "metadata": {},
     "output_type": "display_data"
    },
    {
     "data": {
      "text/markdown": [
       "<span style=\"color:#33cc33\">Correct</span>"
      ],
      "text/plain": [
       "Correct"
      ]
     },
     "metadata": {},
     "output_type": "display_data"
    }
   ],
   "source": [
    "# TODO: Save the police killings dataset to CSV\n",
    "police_killings.to_csv(\"/kaggle/working/myfile.csv\")\n",
    "\n",
    "# Check your answer\n",
    "q3.check()"
   ]
  },
  {
   "cell_type": "code",
   "execution_count": 12,
   "id": "a0e4bd0e",
   "metadata": {
    "execution": {
     "iopub.execute_input": "2023-05-26T12:31:33.020744Z",
     "iopub.status.busy": "2023-05-26T12:31:33.020326Z",
     "iopub.status.idle": "2023-05-26T12:31:33.023754Z",
     "shell.execute_reply": "2023-05-26T12:31:33.023009Z"
    },
    "papermill": {
     "duration": 0.012947,
     "end_time": "2023-05-26T12:31:33.025559",
     "exception": false,
     "start_time": "2023-05-26T12:31:33.012612",
     "status": "completed"
    },
    "tags": []
   },
   "outputs": [],
   "source": [
    "# Lines below will give you a hint or solution code\n",
    "#q3.hint()\n",
    "#q3.solution()"
   ]
  },
  {
   "cell_type": "markdown",
   "id": "8312c897",
   "metadata": {
    "papermill": {
     "duration": 0.005992,
     "end_time": "2023-05-26T12:31:33.037960",
     "exception": false,
     "start_time": "2023-05-26T12:31:33.031968",
     "status": "completed"
    },
    "tags": []
   },
   "source": [
    "# (Optional) More practice\n",
    "\n",
    "Check out [this dataset of files in different character encodings](https://www.kaggle.com/rtatman/character-encoding-examples). Can you read in all the files with their original encodings and them save them out as UTF-8 files?\n",
    "\n",
    "If you have a file that's in UTF-8 but has just a couple of weird-looking characters in it, you can try out the [ftfy module](https://ftfy.readthedocs.io/en/latest/#) and see if it helps. \n",
    "\n",
    "# Keep going\n",
    "\n",
    "In the final lesson, learn how to [**clean up inconsistent text entries**](https://www.kaggle.com/alexisbcook/inconsistent-data-entry) in your dataset."
   ]
  },
  {
   "cell_type": "markdown",
   "id": "5a86d1db",
   "metadata": {
    "papermill": {
     "duration": 0.005887,
     "end_time": "2023-05-26T12:31:33.050037",
     "exception": false,
     "start_time": "2023-05-26T12:31:33.044150",
     "status": "completed"
    },
    "tags": []
   },
   "source": [
    "---\n",
    "\n",
    "\n",
    "\n",
    "\n",
    "*Have questions or comments? Visit the [course discussion forum](https://www.kaggle.com/learn/data-cleaning/discussion) to chat with other learners.*"
   ]
  }
 ],
 "metadata": {
  "kernelspec": {
   "display_name": "Python 3",
   "language": "python",
   "name": "python3"
  },
  "language_info": {
   "codemirror_mode": {
    "name": "ipython",
    "version": 3
   },
   "file_extension": ".py",
   "mimetype": "text/x-python",
   "name": "python",
   "nbconvert_exporter": "python",
   "pygments_lexer": "ipython3",
   "version": "3.10.10"
  },
  "papermill": {
   "default_parameters": {},
   "duration": 12.002425,
   "end_time": "2023-05-26T12:31:33.877149",
   "environment_variables": {},
   "exception": null,
   "input_path": "__notebook__.ipynb",
   "output_path": "__notebook__.ipynb",
   "parameters": {},
   "start_time": "2023-05-26T12:31:21.874724",
   "version": "2.4.0"
  }
 },
 "nbformat": 4,
 "nbformat_minor": 5
}
