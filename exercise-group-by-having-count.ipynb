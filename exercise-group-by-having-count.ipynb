{
 "cells": [
  {
   "cell_type": "markdown",
   "id": "dd61f521",
   "metadata": {
    "papermill": {
     "duration": 0.005843,
     "end_time": "2023-05-24T08:55:10.130538",
     "exception": false,
     "start_time": "2023-05-24T08:55:10.124695",
     "status": "completed"
    },
    "tags": []
   },
   "source": [
    "**This notebook is an exercise in the [SQL](https://www.kaggle.com/learn/intro-to-sql) course.  You can reference the tutorial at [this link](https://www.kaggle.com/dansbecker/group-by-having-count).**\n",
    "\n",
    "---\n"
   ]
  },
  {
   "cell_type": "markdown",
   "id": "1d52bb0f",
   "metadata": {
    "papermill": {
     "duration": 0.005163,
     "end_time": "2023-05-24T08:55:10.141270",
     "exception": false,
     "start_time": "2023-05-24T08:55:10.136107",
     "status": "completed"
    },
    "tags": []
   },
   "source": [
    "# Introduction\n",
    "\n",
    "Queries with **GROUP BY** can be powerful. There are many small things that can trip you up (like the order of the clauses), but it will start to feel natural once you've done it a few times. Here, you'll write queries using **GROUP BY** to answer questions from the Hacker News dataset.\n",
    "\n",
    "Before you get started, run the following cell to set everything up:"
   ]
  },
  {
   "cell_type": "code",
   "execution_count": 1,
   "id": "86cd1181",
   "metadata": {
    "execution": {
     "iopub.execute_input": "2023-05-24T08:55:10.154081Z",
     "iopub.status.busy": "2023-05-24T08:55:10.153694Z",
     "iopub.status.idle": "2023-05-24T08:55:12.752091Z",
     "shell.execute_reply": "2023-05-24T08:55:12.750910Z"
    },
    "papermill": {
     "duration": 2.608257,
     "end_time": "2023-05-24T08:55:12.755090",
     "exception": false,
     "start_time": "2023-05-24T08:55:10.146833",
     "status": "completed"
    },
    "tags": []
   },
   "outputs": [
    {
     "name": "stdout",
     "output_type": "stream",
     "text": [
      "Using Kaggle's public dataset BigQuery integration.\n",
      "Setup Complete\n"
     ]
    }
   ],
   "source": [
    "# Set up feedback system\n",
    "from learntools.core import binder\n",
    "binder.bind(globals())\n",
    "from learntools.sql.ex3 import *\n",
    "print(\"Setup Complete\")"
   ]
  },
  {
   "cell_type": "markdown",
   "id": "811d133f",
   "metadata": {
    "papermill": {
     "duration": 0.005731,
     "end_time": "2023-05-24T08:55:12.766632",
     "exception": false,
     "start_time": "2023-05-24T08:55:12.760901",
     "status": "completed"
    },
    "tags": []
   },
   "source": [
    "The code cell below fetches the `comments` table from the `hacker_news` dataset.  We also preview the first five rows of the table."
   ]
  },
  {
   "cell_type": "code",
   "execution_count": 2,
   "id": "d9ba259a",
   "metadata": {
    "execution": {
     "iopub.execute_input": "2023-05-24T08:55:12.779694Z",
     "iopub.status.busy": "2023-05-24T08:55:12.779273Z",
     "iopub.status.idle": "2023-05-24T08:55:14.183800Z",
     "shell.execute_reply": "2023-05-24T08:55:14.182713Z"
    },
    "papermill": {
     "duration": 1.41419,
     "end_time": "2023-05-24T08:55:14.186372",
     "exception": false,
     "start_time": "2023-05-24T08:55:12.772182",
     "status": "completed"
    },
    "tags": []
   },
   "outputs": [
    {
     "name": "stdout",
     "output_type": "stream",
     "text": [
      "Using Kaggle's public dataset BigQuery integration.\n"
     ]
    },
    {
     "data": {
      "text/html": [
       "<div>\n",
       "<style scoped>\n",
       "    .dataframe tbody tr th:only-of-type {\n",
       "        vertical-align: middle;\n",
       "    }\n",
       "\n",
       "    .dataframe tbody tr th {\n",
       "        vertical-align: top;\n",
       "    }\n",
       "\n",
       "    .dataframe thead th {\n",
       "        text-align: right;\n",
       "    }\n",
       "</style>\n",
       "<table border=\"1\" class=\"dataframe\">\n",
       "  <thead>\n",
       "    <tr style=\"text-align: right;\">\n",
       "      <th></th>\n",
       "      <th>id</th>\n",
       "      <th>by</th>\n",
       "      <th>author</th>\n",
       "      <th>time</th>\n",
       "      <th>time_ts</th>\n",
       "      <th>text</th>\n",
       "      <th>parent</th>\n",
       "      <th>deleted</th>\n",
       "      <th>dead</th>\n",
       "      <th>ranking</th>\n",
       "    </tr>\n",
       "  </thead>\n",
       "  <tbody>\n",
       "    <tr>\n",
       "      <th>0</th>\n",
       "      <td>9734136</td>\n",
       "      <td>None</td>\n",
       "      <td>None</td>\n",
       "      <td>1434565400</td>\n",
       "      <td>2015-06-17 18:23:20+00:00</td>\n",
       "      <td>None</td>\n",
       "      <td>9733698</td>\n",
       "      <td>True</td>\n",
       "      <td>None</td>\n",
       "      <td>0</td>\n",
       "    </tr>\n",
       "    <tr>\n",
       "      <th>1</th>\n",
       "      <td>4921158</td>\n",
       "      <td>None</td>\n",
       "      <td>None</td>\n",
       "      <td>1355496966</td>\n",
       "      <td>2012-12-14 14:56:06+00:00</td>\n",
       "      <td>None</td>\n",
       "      <td>4921100</td>\n",
       "      <td>True</td>\n",
       "      <td>None</td>\n",
       "      <td>0</td>\n",
       "    </tr>\n",
       "    <tr>\n",
       "      <th>2</th>\n",
       "      <td>7500568</td>\n",
       "      <td>None</td>\n",
       "      <td>None</td>\n",
       "      <td>1396261158</td>\n",
       "      <td>2014-03-31 10:19:18+00:00</td>\n",
       "      <td>None</td>\n",
       "      <td>7499385</td>\n",
       "      <td>True</td>\n",
       "      <td>None</td>\n",
       "      <td>0</td>\n",
       "    </tr>\n",
       "    <tr>\n",
       "      <th>3</th>\n",
       "      <td>8909635</td>\n",
       "      <td>None</td>\n",
       "      <td>None</td>\n",
       "      <td>1421627275</td>\n",
       "      <td>2015-01-19 00:27:55+00:00</td>\n",
       "      <td>None</td>\n",
       "      <td>8901135</td>\n",
       "      <td>True</td>\n",
       "      <td>None</td>\n",
       "      <td>0</td>\n",
       "    </tr>\n",
       "    <tr>\n",
       "      <th>4</th>\n",
       "      <td>9256463</td>\n",
       "      <td>None</td>\n",
       "      <td>None</td>\n",
       "      <td>1427204705</td>\n",
       "      <td>2015-03-24 13:45:05+00:00</td>\n",
       "      <td>None</td>\n",
       "      <td>9256346</td>\n",
       "      <td>True</td>\n",
       "      <td>None</td>\n",
       "      <td>0</td>\n",
       "    </tr>\n",
       "  </tbody>\n",
       "</table>\n",
       "</div>"
      ],
      "text/plain": [
       "        id    by author        time                   time_ts  text   parent  \\\n",
       "0  9734136  None   None  1434565400 2015-06-17 18:23:20+00:00  None  9733698   \n",
       "1  4921158  None   None  1355496966 2012-12-14 14:56:06+00:00  None  4921100   \n",
       "2  7500568  None   None  1396261158 2014-03-31 10:19:18+00:00  None  7499385   \n",
       "3  8909635  None   None  1421627275 2015-01-19 00:27:55+00:00  None  8901135   \n",
       "4  9256463  None   None  1427204705 2015-03-24 13:45:05+00:00  None  9256346   \n",
       "\n",
       "   deleted  dead  ranking  \n",
       "0     True  None        0  \n",
       "1     True  None        0  \n",
       "2     True  None        0  \n",
       "3     True  None        0  \n",
       "4     True  None        0  "
      ]
     },
     "execution_count": 2,
     "metadata": {},
     "output_type": "execute_result"
    }
   ],
   "source": [
    "from google.cloud import bigquery\n",
    "\n",
    "# Create a \"Client\" object\n",
    "client = bigquery.Client()\n",
    "\n",
    "# Construct a reference to the \"hacker_news\" dataset\n",
    "dataset_ref = client.dataset(\"hacker_news\", project=\"bigquery-public-data\")\n",
    "\n",
    "# API request - fetch the dataset\n",
    "dataset = client.get_dataset(dataset_ref)\n",
    "\n",
    "# Construct a reference to the \"comments\" table\n",
    "table_ref = dataset_ref.table(\"comments\")\n",
    "\n",
    "# API request - fetch the table\n",
    "table = client.get_table(table_ref)\n",
    "\n",
    "# Preview the first five lines of the \"comments\" table\n",
    "client.list_rows(table, max_results=5).to_dataframe()"
   ]
  },
  {
   "cell_type": "markdown",
   "id": "c5371a4a",
   "metadata": {
    "papermill": {
     "duration": 0.005602,
     "end_time": "2023-05-24T08:55:14.198026",
     "exception": false,
     "start_time": "2023-05-24T08:55:14.192424",
     "status": "completed"
    },
    "tags": []
   },
   "source": [
    "# Exercises\n",
    "\n",
    "### 1) Prolific commenters\n",
    "\n",
    "Hacker News would like to send awards to everyone who has written more than 10,000 posts. Write a query that returns all authors with more than 10,000 posts as well as their post counts. Call the column with post counts `NumPosts`.\n",
    "\n",
    "In case sample query is helpful, here is a query you saw in the tutorial to answer a similar question:\n",
    "```\n",
    "query = \"\"\"\n",
    "        SELECT parent, COUNT(1) AS NumPosts\n",
    "        FROM `bigquery-public-data.hacker_news.comments`\n",
    "        GROUP BY parent\n",
    "        HAVING COUNT(1) > 10\n",
    "        \"\"\"\n",
    "```"
   ]
  },
  {
   "cell_type": "code",
   "execution_count": 3,
   "id": "7a4cb8f0",
   "metadata": {
    "execution": {
     "iopub.execute_input": "2023-05-24T08:55:14.212471Z",
     "iopub.status.busy": "2023-05-24T08:55:14.211669Z",
     "iopub.status.idle": "2023-05-24T08:55:15.385118Z",
     "shell.execute_reply": "2023-05-24T08:55:15.384149Z"
    },
    "papermill": {
     "duration": 1.183406,
     "end_time": "2023-05-24T08:55:15.387424",
     "exception": false,
     "start_time": "2023-05-24T08:55:14.204018",
     "status": "completed"
    },
    "tags": []
   },
   "outputs": [
    {
     "name": "stdout",
     "output_type": "stream",
     "text": [
      "         author  NumPosts\n",
      "0         sp332     10882\n",
      "1       rayiner     11080\n",
      "2       rbanffy     10557\n",
      "3      jrockway     13626\n",
      "4  dragonwriter     10723\n"
     ]
    },
    {
     "data": {
      "application/javascript": [
       "parent.postMessage({\"jupyterEvent\": \"custom.exercise_interaction\", \"data\": {\"outcomeType\": 1, \"valueTowardsCompletion\": 0.5, \"interactionType\": 1, \"questionType\": 2, \"questionId\": \"1_ProlificCommenters\", \"learnToolsVersion\": \"0.3.4\", \"failureMessage\": \"\", \"exceptionClass\": \"\", \"trace\": \"\"}}, \"*\")"
      ],
      "text/plain": [
       "<IPython.core.display.Javascript object>"
      ]
     },
     "metadata": {},
     "output_type": "display_data"
    },
    {
     "data": {
      "text/markdown": [
       "<span style=\"color:#33cc33\">Correct</span>"
      ],
      "text/plain": [
       "Correct"
      ]
     },
     "metadata": {},
     "output_type": "display_data"
    }
   ],
   "source": [
    "# Query to select prolific commenters and post counts\n",
    "prolific_commenters_query = \"\"\"\n",
    "        SELECT author, COUNT(1) AS NumPosts\n",
    "        FROM `bigquery-public-data.hacker_news.comments`\n",
    "        GROUP BY author\n",
    "        HAVING COUNT(1) > 10000\n",
    "        \"\"\" # Your code goes here\n",
    "\n",
    "# Set up the query (cancel the query if it would use too much of \n",
    "# your quota, with the limit set to 1 GB)\n",
    "safe_config = bigquery.QueryJobConfig(maximum_bytes_billed=10**3)\n",
    "query_job = client.query(prolific_commenters_query, job_config=safe_config)\n",
    "\n",
    "# API request - run the query, and return a pandas DataFrame\n",
    "prolific_commenters = query_job.to_dataframe()\n",
    "\n",
    "# View top few rows of results\n",
    "print(prolific_commenters.head())\n",
    "\n",
    "# Check your answer\n",
    "q_1.check()"
   ]
  },
  {
   "cell_type": "markdown",
   "id": "fe3cb84f",
   "metadata": {
    "papermill": {
     "duration": 0.006223,
     "end_time": "2023-05-24T08:55:15.399936",
     "exception": false,
     "start_time": "2023-05-24T08:55:15.393713",
     "status": "completed"
    },
    "tags": []
   },
   "source": [
    "For the solution, uncomment the line below."
   ]
  },
  {
   "cell_type": "code",
   "execution_count": 4,
   "id": "e4d494fd",
   "metadata": {
    "execution": {
     "iopub.execute_input": "2023-05-24T08:55:15.414730Z",
     "iopub.status.busy": "2023-05-24T08:55:15.414347Z",
     "iopub.status.idle": "2023-05-24T08:55:15.418575Z",
     "shell.execute_reply": "2023-05-24T08:55:15.417514Z"
    },
    "papermill": {
     "duration": 0.014742,
     "end_time": "2023-05-24T08:55:15.420897",
     "exception": false,
     "start_time": "2023-05-24T08:55:15.406155",
     "status": "completed"
    },
    "tags": []
   },
   "outputs": [],
   "source": [
    "#q_1.solution()"
   ]
  },
  {
   "cell_type": "markdown",
   "id": "14c288df",
   "metadata": {
    "papermill": {
     "duration": 0.006157,
     "end_time": "2023-05-24T08:55:15.433560",
     "exception": false,
     "start_time": "2023-05-24T08:55:15.427403",
     "status": "completed"
    },
    "tags": []
   },
   "source": [
    "### 2) Deleted comments\n",
    "\n",
    "How many comments have been deleted? (If a comment was deleted, the `deleted` column in the comments table will have the value `True`.)"
   ]
  },
  {
   "cell_type": "code",
   "execution_count": 5,
   "id": "36783e76",
   "metadata": {
    "execution": {
     "iopub.execute_input": "2023-05-24T08:55:15.448897Z",
     "iopub.status.busy": "2023-05-24T08:55:15.448109Z",
     "iopub.status.idle": "2023-05-24T08:55:16.577203Z",
     "shell.execute_reply": "2023-05-24T08:55:16.576154Z"
    },
    "papermill": {
     "duration": 1.140096,
     "end_time": "2023-05-24T08:55:16.579900",
     "exception": false,
     "start_time": "2023-05-24T08:55:15.439804",
     "status": "completed"
    },
    "tags": []
   },
   "outputs": [],
   "source": [
    "# Write your query here and figure out the answer\n",
    "query_2 = \"\"\"\n",
    "        SELECT COUNT(1)\n",
    "        FROM `bigquery-public-data.hacker_news.comments`\n",
    "        WHERE deleted = True\n",
    "        \"\"\"\n",
    "safe_config2 = bigquery.QueryJobConfig(maximum_bytes_billed=10**8)\n",
    "\n",
    "query_job2 = client.query(query_2, job_config=safe_config2)\n",
    "\n",
    "# API request - run the query, and return a pandas DataFrame\n",
    "count_rows_query = query_job2.to_dataframe()"
   ]
  },
  {
   "cell_type": "code",
   "execution_count": 6,
   "id": "6e0dee7b",
   "metadata": {
    "execution": {
     "iopub.execute_input": "2023-05-24T08:55:16.594852Z",
     "iopub.status.busy": "2023-05-24T08:55:16.594265Z",
     "iopub.status.idle": "2023-05-24T08:55:16.600692Z",
     "shell.execute_reply": "2023-05-24T08:55:16.599422Z"
    },
    "papermill": {
     "duration": 0.016447,
     "end_time": "2023-05-24T08:55:16.602945",
     "exception": false,
     "start_time": "2023-05-24T08:55:16.586498",
     "status": "completed"
    },
    "tags": []
   },
   "outputs": [
    {
     "name": "stdout",
     "output_type": "stream",
     "text": [
      "      f0_\n",
      "0  227736\n"
     ]
    }
   ],
   "source": [
    "print(count_rows_query)"
   ]
  },
  {
   "cell_type": "code",
   "execution_count": 7,
   "id": "0ae77287",
   "metadata": {
    "execution": {
     "iopub.execute_input": "2023-05-24T08:55:16.618750Z",
     "iopub.status.busy": "2023-05-24T08:55:16.617631Z",
     "iopub.status.idle": "2023-05-24T08:55:16.626896Z",
     "shell.execute_reply": "2023-05-24T08:55:16.625972Z"
    },
    "papermill": {
     "duration": 0.019314,
     "end_time": "2023-05-24T08:55:16.629097",
     "exception": false,
     "start_time": "2023-05-24T08:55:16.609783",
     "status": "completed"
    },
    "tags": []
   },
   "outputs": [
    {
     "data": {
      "application/javascript": [
       "parent.postMessage({\"jupyterEvent\": \"custom.exercise_interaction\", \"data\": {\"outcomeType\": 1, \"valueTowardsCompletion\": 0.5, \"interactionType\": 1, \"questionType\": 1, \"questionId\": \"2_NumDeletedPosts\", \"learnToolsVersion\": \"0.3.4\", \"failureMessage\": \"\", \"exceptionClass\": \"\", \"trace\": \"\"}}, \"*\")"
      ],
      "text/plain": [
       "<IPython.core.display.Javascript object>"
      ]
     },
     "metadata": {},
     "output_type": "display_data"
    },
    {
     "data": {
      "text/markdown": [
       "<span style=\"color:#33cc33\">Correct</span>"
      ],
      "text/plain": [
       "Correct"
      ]
     },
     "metadata": {},
     "output_type": "display_data"
    }
   ],
   "source": [
    "num_deleted_posts = 227736 # Put your answer here\n",
    "\n",
    "# Check your answer\n",
    "q_2.check()"
   ]
  },
  {
   "cell_type": "markdown",
   "id": "3ea51f4b",
   "metadata": {
    "papermill": {
     "duration": 0.00646,
     "end_time": "2023-05-24T08:55:16.642403",
     "exception": false,
     "start_time": "2023-05-24T08:55:16.635943",
     "status": "completed"
    },
    "tags": []
   },
   "source": [
    "For the solution, uncomment the line below."
   ]
  },
  {
   "cell_type": "code",
   "execution_count": 8,
   "id": "92976765",
   "metadata": {
    "execution": {
     "iopub.execute_input": "2023-05-24T08:55:16.658192Z",
     "iopub.status.busy": "2023-05-24T08:55:16.657500Z",
     "iopub.status.idle": "2023-05-24T08:55:16.666011Z",
     "shell.execute_reply": "2023-05-24T08:55:16.664923Z"
    },
    "papermill": {
     "duration": 0.019178,
     "end_time": "2023-05-24T08:55:16.668269",
     "exception": false,
     "start_time": "2023-05-24T08:55:16.649091",
     "status": "completed"
    },
    "tags": []
   },
   "outputs": [
    {
     "data": {
      "application/javascript": [
       "parent.postMessage({\"jupyterEvent\": \"custom.exercise_interaction\", \"data\": {\"interactionType\": 3, \"questionType\": 1, \"questionId\": \"2_NumDeletedPosts\", \"learnToolsVersion\": \"0.3.4\", \"valueTowardsCompletion\": 0.0, \"failureMessage\": \"\", \"exceptionClass\": \"\", \"trace\": \"\", \"outcomeType\": 4}}, \"*\")"
      ],
      "text/plain": [
       "<IPython.core.display.Javascript object>"
      ]
     },
     "metadata": {},
     "output_type": "display_data"
    },
    {
     "data": {
      "text/markdown": [
       "<span style=\"color:#33cc99\">Solution:</span> \n",
       "```python\n",
       "\n",
       "# Query to determine how many posts were deleted\n",
       "deleted_posts_query = \"\"\"\n",
       "                      SELECT COUNT(1) AS num_deleted_posts\n",
       "                      FROM `bigquery-public-data.hacker_news.comments`\n",
       "                      WHERE deleted = True\n",
       "                      \"\"\"\n",
       "                      \n",
       "# Set up the query\n",
       "query_job = client.query(deleted_posts_query)\n",
       "\n",
       "# API request - run the query, and return a pandas DataFrame\n",
       "deleted_posts = query_job.to_dataframe()\n",
       "\n",
       "# View results\n",
       "print(deleted_posts)\n",
       "\n",
       "num_deleted_posts = 227736\n",
       "\n",
       "```"
      ],
      "text/plain": [
       "Solution: \n",
       "```python\n",
       "\n",
       "# Query to determine how many posts were deleted\n",
       "deleted_posts_query = \"\"\"\n",
       "                      SELECT COUNT(1) AS num_deleted_posts\n",
       "                      FROM `bigquery-public-data.hacker_news.comments`\n",
       "                      WHERE deleted = True\n",
       "                      \"\"\"\n",
       "                      \n",
       "# Set up the query\n",
       "query_job = client.query(deleted_posts_query)\n",
       "\n",
       "# API request - run the query, and return a pandas DataFrame\n",
       "deleted_posts = query_job.to_dataframe()\n",
       "\n",
       "# View results\n",
       "print(deleted_posts)\n",
       "\n",
       "num_deleted_posts = 227736\n",
       "\n",
       "```"
      ]
     },
     "metadata": {},
     "output_type": "display_data"
    }
   ],
   "source": [
    "q_2.solution()"
   ]
  },
  {
   "cell_type": "markdown",
   "id": "2a432c30",
   "metadata": {
    "papermill": {
     "duration": 0.006918,
     "end_time": "2023-05-24T08:55:16.682526",
     "exception": false,
     "start_time": "2023-05-24T08:55:16.675608",
     "status": "completed"
    },
    "tags": []
   },
   "source": [
    "# Keep Going\n",
    "**[Click here](https://www.kaggle.com/dansbecker/order-by)** to move on and learn about the **ORDER BY** clause."
   ]
  },
  {
   "cell_type": "markdown",
   "id": "d3b84259",
   "metadata": {
    "papermill": {
     "duration": 0.006857,
     "end_time": "2023-05-24T08:55:16.696647",
     "exception": false,
     "start_time": "2023-05-24T08:55:16.689790",
     "status": "completed"
    },
    "tags": []
   },
   "source": [
    "---\n",
    "\n",
    "\n",
    "\n",
    "\n",
    "*Have questions or comments? Visit the [course discussion forum](https://www.kaggle.com/learn/intro-to-sql/discussion) to chat with other learners.*"
   ]
  }
 ],
 "metadata": {
  "kernelspec": {
   "display_name": "Python 3",
   "language": "python",
   "name": "python3"
  },
  "language_info": {
   "codemirror_mode": {
    "name": "ipython",
    "version": 3
   },
   "file_extension": ".py",
   "mimetype": "text/x-python",
   "name": "python",
   "nbconvert_exporter": "python",
   "pygments_lexer": "ipython3",
   "version": "3.10.10"
  },
  "papermill": {
   "default_parameters": {},
   "duration": 20.28888,
   "end_time": "2023-05-24T08:55:17.526405",
   "environment_variables": {},
   "exception": null,
   "input_path": "__notebook__.ipynb",
   "output_path": "__notebook__.ipynb",
   "parameters": {},
   "start_time": "2023-05-24T08:54:57.237525",
   "version": "2.4.0"
  }
 },
 "nbformat": 4,
 "nbformat_minor": 5
}
