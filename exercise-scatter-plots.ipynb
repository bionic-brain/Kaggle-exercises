{
 "cells": [
  {
   "cell_type": "markdown",
   "id": "de81ec10",
   "metadata": {
    "papermill": {
     "duration": 0.012605,
     "end_time": "2023-05-23T08:53:28.958421",
     "exception": false,
     "start_time": "2023-05-23T08:53:28.945816",
     "status": "completed"
    },
    "tags": []
   },
   "source": [
    "**This notebook is an exercise in the [Data Visualization](https://www.kaggle.com/learn/data-visualization) course.  You can reference the tutorial at [this link](https://www.kaggle.com/alexisbcook/scatter-plots).**\n",
    "\n",
    "---\n"
   ]
  },
  {
   "cell_type": "markdown",
   "id": "47021a3d",
   "metadata": {
    "papermill": {
     "duration": 0.010251,
     "end_time": "2023-05-23T08:53:28.979713",
     "exception": false,
     "start_time": "2023-05-23T08:53:28.969462",
     "status": "completed"
    },
    "tags": []
   },
   "source": [
    "In this exercise, you will use your new knowledge to propose a solution to a real-world scenario.  To succeed, you will need to import data into Python, answer questions using the data, and generate **scatter plots** to understand patterns in the data.\n",
    "\n",
    "## Scenario\n",
    "\n",
    "You work for a major candy producer, and your goal is to write a report that your company can use to guide the design of its next product.  Soon after starting your research, you stumble across this [very interesting dataset](https://fivethirtyeight.com/features/the-ultimate-halloween-candy-power-ranking/) containing results from a fun survey to crowdsource favorite candies.\n",
    "\n",
    "## Setup\n",
    "\n",
    "Run the next cell to import and configure the Python libraries that you need to complete the exercise."
   ]
  },
  {
   "cell_type": "code",
   "execution_count": 1,
   "id": "c0ac3b97",
   "metadata": {
    "execution": {
     "iopub.execute_input": "2023-05-23T08:53:29.003054Z",
     "iopub.status.busy": "2023-05-23T08:53:29.002603Z",
     "iopub.status.idle": "2023-05-23T08:53:30.434739Z",
     "shell.execute_reply": "2023-05-23T08:53:30.433779Z"
    },
    "papermill": {
     "duration": 1.446725,
     "end_time": "2023-05-23T08:53:30.437116",
     "exception": false,
     "start_time": "2023-05-23T08:53:28.990391",
     "status": "completed"
    },
    "tags": []
   },
   "outputs": [
    {
     "name": "stderr",
     "output_type": "stream",
     "text": [
      "/opt/conda/lib/python3.10/site-packages/scipy/__init__.py:146: UserWarning: A NumPy version >=1.16.5 and <1.23.0 is required for this version of SciPy (detected version 1.23.5\n",
      "  warnings.warn(f\"A NumPy version >={np_minversion} and <{np_maxversion}\"\n"
     ]
    },
    {
     "name": "stdout",
     "output_type": "stream",
     "text": [
      "Setup Complete\n"
     ]
    }
   ],
   "source": [
    "import pandas as pd\n",
    "pd.plotting.register_matplotlib_converters()\n",
    "import matplotlib.pyplot as plt\n",
    "%matplotlib inline\n",
    "import seaborn as sns\n",
    "print(\"Setup Complete\")"
   ]
  },
  {
   "cell_type": "markdown",
   "id": "63a849ca",
   "metadata": {
    "papermill": {
     "duration": 0.010637,
     "end_time": "2023-05-23T08:53:30.458892",
     "exception": false,
     "start_time": "2023-05-23T08:53:30.448255",
     "status": "completed"
    },
    "tags": []
   },
   "source": [
    "The questions below will give you feedback on your work. Run the following cell to set up our feedback system."
   ]
  },
  {
   "cell_type": "code",
   "execution_count": 2,
   "id": "4304d37e",
   "metadata": {
    "execution": {
     "iopub.execute_input": "2023-05-23T08:53:30.483331Z",
     "iopub.status.busy": "2023-05-23T08:53:30.482576Z",
     "iopub.status.idle": "2023-05-23T08:53:30.565212Z",
     "shell.execute_reply": "2023-05-23T08:53:30.564048Z"
    },
    "papermill": {
     "duration": 0.097904,
     "end_time": "2023-05-23T08:53:30.567808",
     "exception": false,
     "start_time": "2023-05-23T08:53:30.469904",
     "status": "completed"
    },
    "tags": []
   },
   "outputs": [
    {
     "name": "stdout",
     "output_type": "stream",
     "text": [
      "Setup Complete\n"
     ]
    }
   ],
   "source": [
    "# Set up code checking\n",
    "import os\n",
    "if not os.path.exists(\"../input/candy.csv\"):\n",
    "    os.symlink(\"../input/data-for-datavis/candy.csv\", \"../input/candy.csv\") \n",
    "from learntools.core import binder\n",
    "binder.bind(globals())\n",
    "from learntools.data_viz_to_coder.ex4 import *\n",
    "print(\"Setup Complete\")"
   ]
  },
  {
   "cell_type": "markdown",
   "id": "5d98a233",
   "metadata": {
    "papermill": {
     "duration": 0.010691,
     "end_time": "2023-05-23T08:53:30.590179",
     "exception": false,
     "start_time": "2023-05-23T08:53:30.579488",
     "status": "completed"
    },
    "tags": []
   },
   "source": [
    "## Step 1: Load the Data\n",
    "\n",
    "Read the candy data file into `candy_data`.  Use the `\"id\"` column to label the rows."
   ]
  },
  {
   "cell_type": "code",
   "execution_count": 3,
   "id": "1572d63c",
   "metadata": {
    "execution": {
     "iopub.execute_input": "2023-05-23T08:53:30.614620Z",
     "iopub.status.busy": "2023-05-23T08:53:30.614163Z",
     "iopub.status.idle": "2023-05-23T08:53:30.632259Z",
     "shell.execute_reply": "2023-05-23T08:53:30.631051Z"
    },
    "papermill": {
     "duration": 0.032962,
     "end_time": "2023-05-23T08:53:30.634649",
     "exception": false,
     "start_time": "2023-05-23T08:53:30.601687",
     "status": "completed"
    },
    "tags": []
   },
   "outputs": [
    {
     "data": {
      "application/javascript": [
       "parent.postMessage({\"jupyterEvent\": \"custom.exercise_interaction\", \"data\": {\"outcomeType\": 1, \"valueTowardsCompletion\": 0.3333333333333333, \"interactionType\": 1, \"questionType\": 1, \"questionId\": \"1_LoadData\", \"learnToolsVersion\": \"0.3.4\", \"failureMessage\": \"\", \"exceptionClass\": \"\", \"trace\": \"\"}}, \"*\")"
      ],
      "text/plain": [
       "<IPython.core.display.Javascript object>"
      ]
     },
     "metadata": {},
     "output_type": "display_data"
    },
    {
     "data": {
      "text/markdown": [
       "<span style=\"color:#33cc33\">Correct</span>"
      ],
      "text/plain": [
       "Correct"
      ]
     },
     "metadata": {},
     "output_type": "display_data"
    }
   ],
   "source": [
    "# Path of the file to read\n",
    "candy_filepath = \"../input/candy.csv\"\n",
    "\n",
    "# Fill in the line below to read the file into a variable candy_data\n",
    "candy_data = pd.read_csv(candy_filepath, index_col = 'id')\n",
    "\n",
    "# Run the line below with no changes to check that you've loaded the data correctly\n",
    "step_1.check()"
   ]
  },
  {
   "cell_type": "code",
   "execution_count": 4,
   "id": "9c3a1d4b",
   "metadata": {
    "execution": {
     "iopub.execute_input": "2023-05-23T08:53:30.659564Z",
     "iopub.status.busy": "2023-05-23T08:53:30.659136Z",
     "iopub.status.idle": "2023-05-23T08:53:30.663943Z",
     "shell.execute_reply": "2023-05-23T08:53:30.662720Z"
    },
    "papermill": {
     "duration": 0.020033,
     "end_time": "2023-05-23T08:53:30.666383",
     "exception": false,
     "start_time": "2023-05-23T08:53:30.646350",
     "status": "completed"
    },
    "tags": []
   },
   "outputs": [],
   "source": [
    "# Lines below will give you a hint or solution code\n",
    "#step_1.hint()\n",
    "#step_1.solution()"
   ]
  },
  {
   "cell_type": "markdown",
   "id": "4c213771",
   "metadata": {
    "papermill": {
     "duration": 0.011611,
     "end_time": "2023-05-23T08:53:30.689708",
     "exception": false,
     "start_time": "2023-05-23T08:53:30.678097",
     "status": "completed"
    },
    "tags": []
   },
   "source": [
    "## Step 2: Review the data\n",
    "\n",
    "Use a Python command to print the first five rows of the data."
   ]
  },
  {
   "cell_type": "code",
   "execution_count": 5,
   "id": "f838ab34",
   "metadata": {
    "execution": {
     "iopub.execute_input": "2023-05-23T08:53:30.714694Z",
     "iopub.status.busy": "2023-05-23T08:53:30.714284Z",
     "iopub.status.idle": "2023-05-23T08:53:30.744525Z",
     "shell.execute_reply": "2023-05-23T08:53:30.743429Z"
    },
    "papermill": {
     "duration": 0.045398,
     "end_time": "2023-05-23T08:53:30.746830",
     "exception": false,
     "start_time": "2023-05-23T08:53:30.701432",
     "status": "completed"
    },
    "tags": []
   },
   "outputs": [
    {
     "data": {
      "text/html": [
       "<div>\n",
       "<style scoped>\n",
       "    .dataframe tbody tr th:only-of-type {\n",
       "        vertical-align: middle;\n",
       "    }\n",
       "\n",
       "    .dataframe tbody tr th {\n",
       "        vertical-align: top;\n",
       "    }\n",
       "\n",
       "    .dataframe thead th {\n",
       "        text-align: right;\n",
       "    }\n",
       "</style>\n",
       "<table border=\"1\" class=\"dataframe\">\n",
       "  <thead>\n",
       "    <tr style=\"text-align: right;\">\n",
       "      <th></th>\n",
       "      <th>competitorname</th>\n",
       "      <th>chocolate</th>\n",
       "      <th>fruity</th>\n",
       "      <th>caramel</th>\n",
       "      <th>peanutyalmondy</th>\n",
       "      <th>nougat</th>\n",
       "      <th>crispedricewafer</th>\n",
       "      <th>hard</th>\n",
       "      <th>bar</th>\n",
       "      <th>pluribus</th>\n",
       "      <th>sugarpercent</th>\n",
       "      <th>pricepercent</th>\n",
       "      <th>winpercent</th>\n",
       "    </tr>\n",
       "    <tr>\n",
       "      <th>id</th>\n",
       "      <th></th>\n",
       "      <th></th>\n",
       "      <th></th>\n",
       "      <th></th>\n",
       "      <th></th>\n",
       "      <th></th>\n",
       "      <th></th>\n",
       "      <th></th>\n",
       "      <th></th>\n",
       "      <th></th>\n",
       "      <th></th>\n",
       "      <th></th>\n",
       "      <th></th>\n",
       "    </tr>\n",
       "  </thead>\n",
       "  <tbody>\n",
       "    <tr>\n",
       "      <th>0</th>\n",
       "      <td>100 Grand</td>\n",
       "      <td>Yes</td>\n",
       "      <td>No</td>\n",
       "      <td>Yes</td>\n",
       "      <td>No</td>\n",
       "      <td>No</td>\n",
       "      <td>Yes</td>\n",
       "      <td>No</td>\n",
       "      <td>Yes</td>\n",
       "      <td>No</td>\n",
       "      <td>0.732</td>\n",
       "      <td>0.860</td>\n",
       "      <td>66.971725</td>\n",
       "    </tr>\n",
       "    <tr>\n",
       "      <th>1</th>\n",
       "      <td>3 Musketeers</td>\n",
       "      <td>Yes</td>\n",
       "      <td>No</td>\n",
       "      <td>No</td>\n",
       "      <td>No</td>\n",
       "      <td>Yes</td>\n",
       "      <td>No</td>\n",
       "      <td>No</td>\n",
       "      <td>Yes</td>\n",
       "      <td>No</td>\n",
       "      <td>0.604</td>\n",
       "      <td>0.511</td>\n",
       "      <td>67.602936</td>\n",
       "    </tr>\n",
       "    <tr>\n",
       "      <th>2</th>\n",
       "      <td>Air Heads</td>\n",
       "      <td>No</td>\n",
       "      <td>Yes</td>\n",
       "      <td>No</td>\n",
       "      <td>No</td>\n",
       "      <td>No</td>\n",
       "      <td>No</td>\n",
       "      <td>No</td>\n",
       "      <td>No</td>\n",
       "      <td>No</td>\n",
       "      <td>0.906</td>\n",
       "      <td>0.511</td>\n",
       "      <td>52.341465</td>\n",
       "    </tr>\n",
       "    <tr>\n",
       "      <th>3</th>\n",
       "      <td>Almond Joy</td>\n",
       "      <td>Yes</td>\n",
       "      <td>No</td>\n",
       "      <td>No</td>\n",
       "      <td>Yes</td>\n",
       "      <td>No</td>\n",
       "      <td>No</td>\n",
       "      <td>No</td>\n",
       "      <td>Yes</td>\n",
       "      <td>No</td>\n",
       "      <td>0.465</td>\n",
       "      <td>0.767</td>\n",
       "      <td>50.347546</td>\n",
       "    </tr>\n",
       "    <tr>\n",
       "      <th>4</th>\n",
       "      <td>Baby Ruth</td>\n",
       "      <td>Yes</td>\n",
       "      <td>No</td>\n",
       "      <td>Yes</td>\n",
       "      <td>Yes</td>\n",
       "      <td>Yes</td>\n",
       "      <td>No</td>\n",
       "      <td>No</td>\n",
       "      <td>Yes</td>\n",
       "      <td>No</td>\n",
       "      <td>0.604</td>\n",
       "      <td>0.767</td>\n",
       "      <td>56.914547</td>\n",
       "    </tr>\n",
       "  </tbody>\n",
       "</table>\n",
       "</div>"
      ],
      "text/plain": [
       "   competitorname chocolate fruity caramel peanutyalmondy nougat  \\\n",
       "id                                                                 \n",
       "0       100 Grand       Yes     No     Yes             No     No   \n",
       "1    3 Musketeers       Yes     No      No             No    Yes   \n",
       "2       Air Heads        No    Yes      No             No     No   \n",
       "3      Almond Joy       Yes     No      No            Yes     No   \n",
       "4       Baby Ruth       Yes     No     Yes            Yes    Yes   \n",
       "\n",
       "   crispedricewafer hard  bar pluribus  sugarpercent  pricepercent  winpercent  \n",
       "id                                                                              \n",
       "0               Yes   No  Yes       No         0.732         0.860   66.971725  \n",
       "1                No   No  Yes       No         0.604         0.511   67.602936  \n",
       "2                No   No   No       No         0.906         0.511   52.341465  \n",
       "3                No   No  Yes       No         0.465         0.767   50.347546  \n",
       "4                No   No  Yes       No         0.604         0.767   56.914547  "
      ]
     },
     "execution_count": 5,
     "metadata": {},
     "output_type": "execute_result"
    }
   ],
   "source": [
    "# Print the first five rows of the data\n",
    "candy_data.head(5) # Your code here"
   ]
  },
  {
   "cell_type": "markdown",
   "id": "cab04278",
   "metadata": {
    "papermill": {
     "duration": 0.011589,
     "end_time": "2023-05-23T08:53:30.770517",
     "exception": false,
     "start_time": "2023-05-23T08:53:30.758928",
     "status": "completed"
    },
    "tags": []
   },
   "source": [
    "The dataset contains 83 rows, where each corresponds to a different candy bar.  There are 13 columns:\n",
    "- `'competitorname'` contains the name of the candy bar. \n",
    "- the next **9** columns (from `'chocolate'` to `'pluribus'`) describe the candy.  For instance, rows with chocolate candies have `\"Yes\"` in the `'chocolate'` column (and candies without chocolate have `\"No\"` in the same column).\n",
    "- `'sugarpercent'` provides some indication of the amount of sugar, where higher values signify higher sugar content.\n",
    "- `'pricepercent'` shows the price per unit, relative to the other candies in the dataset.\n",
    "- `'winpercent'` is calculated from the survey results; higher values indicate that the candy was more popular with survey respondents.\n",
    "\n",
    "Use the first five rows of the data to answer the questions below."
   ]
  },
  {
   "cell_type": "code",
   "execution_count": 6,
   "id": "04bac02f",
   "metadata": {
    "execution": {
     "iopub.execute_input": "2023-05-23T08:53:30.795849Z",
     "iopub.status.busy": "2023-05-23T08:53:30.795430Z",
     "iopub.status.idle": "2023-05-23T08:53:30.805383Z",
     "shell.execute_reply": "2023-05-23T08:53:30.804335Z"
    },
    "papermill": {
     "duration": 0.025352,
     "end_time": "2023-05-23T08:53:30.807752",
     "exception": false,
     "start_time": "2023-05-23T08:53:30.782400",
     "status": "completed"
    },
    "tags": []
   },
   "outputs": [
    {
     "data": {
      "application/javascript": [
       "parent.postMessage({\"jupyterEvent\": \"custom.exercise_interaction\", \"data\": {\"outcomeType\": 1, \"valueTowardsCompletion\": 0.3333333333333333, \"interactionType\": 1, \"questionType\": 1, \"questionId\": \"2_ReviewData\", \"learnToolsVersion\": \"0.3.4\", \"failureMessage\": \"\", \"exceptionClass\": \"\", \"trace\": \"\"}}, \"*\")"
      ],
      "text/plain": [
       "<IPython.core.display.Javascript object>"
      ]
     },
     "metadata": {},
     "output_type": "display_data"
    },
    {
     "data": {
      "text/markdown": [
       "<span style=\"color:#33cc33\">Correct</span>"
      ],
      "text/plain": [
       "Correct"
      ]
     },
     "metadata": {},
     "output_type": "display_data"
    }
   ],
   "source": [
    "# Fill in the line below: Which candy was more popular with survey respondents:\n",
    "# '3 Musketeers' or 'Almond Joy'?  (Please enclose your answer in single quotes.)\n",
    "more_popular = '3 Musketeers'\n",
    "\n",
    "# Fill in the line below: Which candy has higher sugar content: 'Air Heads'\n",
    "# or 'Baby Ruth'? (Please enclose your answer in single quotes.)\n",
    "more_sugar = 'Air Heads'\n",
    "\n",
    "# Check your answers\n",
    "step_2.check()"
   ]
  },
  {
   "cell_type": "code",
   "execution_count": 7,
   "id": "48de9e1c",
   "metadata": {
    "execution": {
     "iopub.execute_input": "2023-05-23T08:53:30.833869Z",
     "iopub.status.busy": "2023-05-23T08:53:30.833459Z",
     "iopub.status.idle": "2023-05-23T08:53:30.837873Z",
     "shell.execute_reply": "2023-05-23T08:53:30.837040Z"
    },
    "papermill": {
     "duration": 0.019727,
     "end_time": "2023-05-23T08:53:30.839899",
     "exception": false,
     "start_time": "2023-05-23T08:53:30.820172",
     "status": "completed"
    },
    "tags": []
   },
   "outputs": [],
   "source": [
    "# Lines below will give you a hint or solution code\n",
    "#step_2.hint()\n",
    "#step_2.solution()"
   ]
  },
  {
   "cell_type": "markdown",
   "id": "008205bb",
   "metadata": {
    "papermill": {
     "duration": 0.011668,
     "end_time": "2023-05-23T08:53:30.863990",
     "exception": false,
     "start_time": "2023-05-23T08:53:30.852322",
     "status": "completed"
    },
    "tags": []
   },
   "source": [
    "## Step 3: The role of sugar\n",
    "\n",
    "Do people tend to prefer candies with higher sugar content?  \n",
    "\n",
    "#### Part A\n",
    "\n",
    "Create a scatter plot that shows the relationship between `'sugarpercent'` (on the horizontal x-axis) and `'winpercent'` (on the vertical y-axis).  _Don't add a regression line just yet -- you'll do that in the next step!_"
   ]
  },
  {
   "cell_type": "code",
   "execution_count": 8,
   "id": "d1cbf510",
   "metadata": {
    "execution": {
     "iopub.execute_input": "2023-05-23T08:53:30.889723Z",
     "iopub.status.busy": "2023-05-23T08:53:30.889311Z",
     "iopub.status.idle": "2023-05-23T08:53:31.196100Z",
     "shell.execute_reply": "2023-05-23T08:53:31.194894Z"
    },
    "papermill": {
     "duration": 0.322596,
     "end_time": "2023-05-23T08:53:31.198652",
     "exception": false,
     "start_time": "2023-05-23T08:53:30.876056",
     "status": "completed"
    },
    "tags": []
   },
   "outputs": [
    {
     "data": {
      "application/javascript": [
       "parent.postMessage({\"jupyterEvent\": \"custom.exercise_interaction\", \"data\": {\"outcomeType\": 1, \"valueTowardsCompletion\": 0.3333333333333333, \"interactionType\": 1, \"questionType\": 2, \"questionId\": \"3.1_PlotBlueScatter\", \"learnToolsVersion\": \"0.3.4\", \"failureMessage\": \"\", \"exceptionClass\": \"\", \"trace\": \"\"}}, \"*\")"
      ],
      "text/plain": [
       "<IPython.core.display.Javascript object>"
      ]
     },
     "metadata": {},
     "output_type": "display_data"
    },
    {
     "data": {
      "text/markdown": [
       "<span style=\"color:#33cc33\">Correct</span>"
      ],
      "text/plain": [
       "Correct"
      ]
     },
     "metadata": {},
     "output_type": "display_data"
    },
    {
     "data": {
      "image/png": "[encoded data removed]",
      "text/plain": [
       "<Figure size 640x480 with 1 Axes>"
      ]
     },
     "metadata": {},
     "output_type": "display_data"
    }
   ],
   "source": [
    "# Scatter plot showing the relationship between 'sugarpercent' and 'winpercent'\n",
    "sns.scatterplot(x = candy_data['sugarpercent'], y = candy_data['winpercent']) # Your code here\n",
    "\n",
    "# Check your answer\n",
    "step_3.a.check()"
   ]
  },
  {
   "cell_type": "code",
   "execution_count": 9,
   "id": "5b5142b2",
   "metadata": {
    "execution": {
     "iopub.execute_input": "2023-05-23T08:53:31.226342Z",
     "iopub.status.busy": "2023-05-23T08:53:31.225897Z",
     "iopub.status.idle": "2023-05-23T08:53:31.230680Z",
     "shell.execute_reply": "2023-05-23T08:53:31.229532Z"
    },
    "papermill": {
     "duration": 0.021326,
     "end_time": "2023-05-23T08:53:31.232904",
     "exception": false,
     "start_time": "2023-05-23T08:53:31.211578",
     "status": "completed"
    },
    "tags": []
   },
   "outputs": [],
   "source": [
    "# Lines below will give you a hint or solution code\n",
    "#step_3.a.hint()\n",
    "#step_3.a.solution_plot()"
   ]
  },
  {
   "cell_type": "markdown",
   "id": "64c45c4f",
   "metadata": {
    "papermill": {
     "duration": 0.012598,
     "end_time": "2023-05-23T08:53:31.258448",
     "exception": false,
     "start_time": "2023-05-23T08:53:31.245850",
     "status": "completed"
    },
    "tags": []
   },
   "source": [
    "#### Part B\n",
    "\n",
    "Does the scatter plot show a **strong** correlation between the two variables?  If so, are candies with more sugar relatively more or less popular with the survey respondents?"
   ]
  },
  {
   "cell_type": "code",
   "execution_count": 10,
   "id": "bd0086ee",
   "metadata": {
    "execution": {
     "iopub.execute_input": "2023-05-23T08:53:31.286047Z",
     "iopub.status.busy": "2023-05-23T08:53:31.285639Z",
     "iopub.status.idle": "2023-05-23T08:53:31.290595Z",
     "shell.execute_reply": "2023-05-23T08:53:31.289472Z"
    },
    "papermill": {
     "duration": 0.02152,
     "end_time": "2023-05-23T08:53:31.292892",
     "exception": false,
     "start_time": "2023-05-23T08:53:31.271372",
     "status": "completed"
    },
    "tags": []
   },
   "outputs": [],
   "source": [
    "#step_3.b.hint()"
   ]
  },
  {
   "cell_type": "code",
   "execution_count": 11,
   "id": "b64ac1f6",
   "metadata": {
    "execution": {
     "iopub.execute_input": "2023-05-23T08:53:31.320887Z",
     "iopub.status.busy": "2023-05-23T08:53:31.320500Z",
     "iopub.status.idle": "2023-05-23T08:53:31.330542Z",
     "shell.execute_reply": "2023-05-23T08:53:31.329199Z"
    },
    "papermill": {
     "duration": 0.026811,
     "end_time": "2023-05-23T08:53:31.332955",
     "exception": false,
     "start_time": "2023-05-23T08:53:31.306144",
     "status": "completed"
    },
    "tags": []
   },
   "outputs": [
    {
     "data": {
      "application/javascript": [
       "parent.postMessage({\"jupyterEvent\": \"custom.exercise_interaction\", \"data\": {\"interactionType\": 3, \"questionType\": 4, \"questionId\": \"3.2_ThinkBlueScatter\", \"learnToolsVersion\": \"0.3.4\", \"valueTowardsCompletion\": 0.0, \"failureMessage\": \"\", \"exceptionClass\": \"\", \"trace\": \"\", \"outcomeType\": 4}}, \"*\")"
      ],
      "text/plain": [
       "<IPython.core.display.Javascript object>"
      ]
     },
     "metadata": {},
     "output_type": "display_data"
    },
    {
     "data": {
      "text/markdown": [
       "<span style=\"color:#33cc99\">Solution:</span> The scatter plot does not show a strong correlation between the two variables. Since there is no clear relationship between the two variables, this tells us that sugar content does not play a strong role in candy popularity."
      ],
      "text/plain": [
       "Solution: The scatter plot does not show a strong correlation between the two variables. Since there is no clear relationship between the two variables, this tells us that sugar content does not play a strong role in candy popularity."
      ]
     },
     "metadata": {},
     "output_type": "display_data"
    }
   ],
   "source": [
    "# Check your answer (Run this code cell to receive credit!)\n",
    "step_3.b.solution()"
   ]
  },
  {
   "cell_type": "markdown",
   "id": "1276fbbf",
   "metadata": {
    "papermill": {
     "duration": 0.013035,
     "end_time": "2023-05-23T08:53:31.359788",
     "exception": false,
     "start_time": "2023-05-23T08:53:31.346753",
     "status": "completed"
    },
    "tags": []
   },
   "source": [
    "## Step 4: Take a closer look\n",
    "\n",
    "#### Part A\n",
    "\n",
    "Create the same scatter plot you created in **Step 3**, but now with a regression line!"
   ]
  },
  {
   "cell_type": "code",
   "execution_count": 12,
   "id": "bcde09bd",
   "metadata": {
    "execution": {
     "iopub.execute_input": "2023-05-23T08:53:31.388590Z",
     "iopub.status.busy": "2023-05-23T08:53:31.388145Z",
     "iopub.status.idle": "2023-05-23T08:53:31.785729Z",
     "shell.execute_reply": "2023-05-23T08:53:31.784842Z"
    },
    "papermill": {
     "duration": 0.414882,
     "end_time": "2023-05-23T08:53:31.788098",
     "exception": false,
     "start_time": "2023-05-23T08:53:31.373216",
     "status": "completed"
    },
    "tags": []
   },
   "outputs": [
    {
     "data": {
      "application/javascript": [
       "parent.postMessage({\"jupyterEvent\": \"custom.exercise_interaction\", \"data\": {\"outcomeType\": 1, \"valueTowardsCompletion\": 0.3333333333333333, \"interactionType\": 1, \"questionType\": 2, \"questionId\": \"4.1_PlotBlueReg\", \"learnToolsVersion\": \"0.3.4\", \"failureMessage\": \"\", \"exceptionClass\": \"\", \"trace\": \"\"}}, \"*\")"
      ],
      "text/plain": [
       "<IPython.core.display.Javascript object>"
      ]
     },
     "metadata": {},
     "output_type": "display_data"
    },
    {
     "data": {
      "text/markdown": [
       "<span style=\"color:#33cc33\">Correct</span>"
      ],
      "text/plain": [
       "Correct"
      ]
     },
     "metadata": {},
     "output_type": "display_data"
    },
    {
     "data": {
      "image/png": "[encoded data removed]",
      "text/plain": [
       "<Figure size 640x480 with 1 Axes>"
      ]
     },
     "metadata": {},
     "output_type": "display_data"
    }
   ],
   "source": [
    "# Scatter plot w/ regression line showing the relationship between 'sugarpercent' and 'winpercent'\n",
    "sns.regplot(x = candy_data['sugarpercent'], y = candy_data['winpercent']) # Your code here\n",
    " # Your code here\n",
    "\n",
    "# Check your answer\n",
    "step_4.a.check()"
   ]
  },
  {
   "cell_type": "code",
   "execution_count": 13,
   "id": "62f22dca",
   "metadata": {
    "execution": {
     "iopub.execute_input": "2023-05-23T08:53:31.818392Z",
     "iopub.status.busy": "2023-05-23T08:53:31.817966Z",
     "iopub.status.idle": "2023-05-23T08:53:31.822389Z",
     "shell.execute_reply": "2023-05-23T08:53:31.821225Z"
    },
    "papermill": {
     "duration": 0.022672,
     "end_time": "2023-05-23T08:53:31.825016",
     "exception": false,
     "start_time": "2023-05-23T08:53:31.802344",
     "status": "completed"
    },
    "tags": []
   },
   "outputs": [],
   "source": [
    "# Lines below will give you a hint or solution code\n",
    "#step_4.a.hint()\n",
    "#step_4.a.solution_plot()"
   ]
  },
  {
   "cell_type": "markdown",
   "id": "c1eb4eb2",
   "metadata": {
    "papermill": {
     "duration": 0.013817,
     "end_time": "2023-05-23T08:53:31.853394",
     "exception": false,
     "start_time": "2023-05-23T08:53:31.839577",
     "status": "completed"
    },
    "tags": []
   },
   "source": [
    "#### Part B\n",
    "\n",
    "According to the plot above, is there a **slight** correlation between `'winpercent'` and `'sugarpercent'`?  What does this tell you about the candy that people tend to prefer?"
   ]
  },
  {
   "cell_type": "code",
   "execution_count": 14,
   "id": "dcfacd71",
   "metadata": {
    "execution": {
     "iopub.execute_input": "2023-05-23T08:53:31.884115Z",
     "iopub.status.busy": "2023-05-23T08:53:31.883047Z",
     "iopub.status.idle": "2023-05-23T08:53:31.888411Z",
     "shell.execute_reply": "2023-05-23T08:53:31.887133Z"
    },
    "papermill": {
     "duration": 0.02307,
     "end_time": "2023-05-23T08:53:31.890772",
     "exception": false,
     "start_time": "2023-05-23T08:53:31.867702",
     "status": "completed"
    },
    "tags": []
   },
   "outputs": [],
   "source": [
    "#step_4.b.hint()"
   ]
  },
  {
   "cell_type": "code",
   "execution_count": 15,
   "id": "ce4ac7d1",
   "metadata": {
    "execution": {
     "iopub.execute_input": "2023-05-23T08:53:31.921490Z",
     "iopub.status.busy": "2023-05-23T08:53:31.920768Z",
     "iopub.status.idle": "2023-05-23T08:53:31.929509Z",
     "shell.execute_reply": "2023-05-23T08:53:31.928449Z"
    },
    "papermill": {
     "duration": 0.026647,
     "end_time": "2023-05-23T08:53:31.932037",
     "exception": false,
     "start_time": "2023-05-23T08:53:31.905390",
     "status": "completed"
    },
    "tags": []
   },
   "outputs": [
    {
     "data": {
      "application/javascript": [
       "parent.postMessage({\"jupyterEvent\": \"custom.exercise_interaction\", \"data\": {\"interactionType\": 3, \"questionType\": 4, \"questionId\": \"4.2_ThinkBlueReg\", \"learnToolsVersion\": \"0.3.4\", \"valueTowardsCompletion\": 0.0, \"failureMessage\": \"\", \"exceptionClass\": \"\", \"trace\": \"\", \"outcomeType\": 4}}, \"*\")"
      ],
      "text/plain": [
       "<IPython.core.display.Javascript object>"
      ]
     },
     "metadata": {},
     "output_type": "display_data"
    },
    {
     "data": {
      "text/markdown": [
       "<span style=\"color:#33cc99\">Solution:</span> Since the regression line has a slightly positive slope, this tells us that there is a slightly positive correlation between `'winpercent'` and `'sugarpercent'`. Thus, people have a slight preference for candies containing relatively more sugar."
      ],
      "text/plain": [
       "Solution: Since the regression line has a slightly positive slope, this tells us that there is a slightly positive correlation between `'winpercent'` and `'sugarpercent'`. Thus, people have a slight preference for candies containing relatively more sugar."
      ]
     },
     "metadata": {},
     "output_type": "display_data"
    }
   ],
   "source": [
    "# Check your answer (Run this code cell to receive credit!)\n",
    "step_4.b.solution()"
   ]
  },
  {
   "cell_type": "markdown",
   "id": "1f95463f",
   "metadata": {
    "papermill": {
     "duration": 0.014507,
     "end_time": "2023-05-23T08:53:31.961601",
     "exception": false,
     "start_time": "2023-05-23T08:53:31.947094",
     "status": "completed"
    },
    "tags": []
   },
   "source": [
    "## Step 5: Chocolate!\n",
    "\n",
    "In the code cell below, create a scatter plot to show the relationship between `'pricepercent'` (on the horizontal x-axis) and `'winpercent'` (on the vertical y-axis). Use the `'chocolate'` column to color-code the points.  _Don't add any regression lines just yet -- you'll do that in the next step!_"
   ]
  },
  {
   "cell_type": "code",
   "execution_count": 16,
   "id": "e0b18ba6",
   "metadata": {
    "execution": {
     "iopub.execute_input": "2023-05-23T08:53:31.993057Z",
     "iopub.status.busy": "2023-05-23T08:53:31.992665Z",
     "iopub.status.idle": "2023-05-23T08:53:32.275510Z",
     "shell.execute_reply": "2023-05-23T08:53:32.274396Z"
    },
    "papermill": {
     "duration": 0.301343,
     "end_time": "2023-05-23T08:53:32.278122",
     "exception": false,
     "start_time": "2023-05-23T08:53:31.976779",
     "status": "completed"
    },
    "tags": []
   },
   "outputs": [
    {
     "data": {
      "application/javascript": [
       "parent.postMessage({\"jupyterEvent\": \"custom.exercise_interaction\", \"data\": {\"outcomeType\": 1, \"valueTowardsCompletion\": 0.3333333333333333, \"interactionType\": 1, \"questionType\": 2, \"questionId\": \"5_ColorScatter\", \"learnToolsVersion\": \"0.3.4\", \"failureMessage\": \"\", \"exceptionClass\": \"\", \"trace\": \"\"}}, \"*\")"
      ],
      "text/plain": [
       "<IPython.core.display.Javascript object>"
      ]
     },
     "metadata": {},
     "output_type": "display_data"
    },
    {
     "data": {
      "text/markdown": [
       "<span style=\"color:#33cc33\">Correct</span>"
      ],
      "text/plain": [
       "Correct"
      ]
     },
     "metadata": {},
     "output_type": "display_data"
    },
    {
     "data": {
      "image/png": "[encoded data removed]",
      "text/plain": [
       "<Figure size 640x480 with 1 Axes>"
      ]
     },
     "metadata": {},
     "output_type": "display_data"
    }
   ],
   "source": [
    "# Scatter plot showing the relationship between 'pricepercent', 'winpercent', and 'chocolate'\n",
    "sns.scatterplot(x = candy_data['pricepercent'], y = candy_data['winpercent']) # Your code here\n",
    " # Your code here\n",
    "\n",
    "# Check your answer\n",
    "step_5.check()"
   ]
  },
  {
   "cell_type": "code",
   "execution_count": 17,
   "id": "20b8868f",
   "metadata": {
    "execution": {
     "iopub.execute_input": "2023-05-23T08:53:32.310745Z",
     "iopub.status.busy": "2023-05-23T08:53:32.310332Z",
     "iopub.status.idle": "2023-05-23T08:53:32.314518Z",
     "shell.execute_reply": "2023-05-23T08:53:32.313719Z"
    },
    "papermill": {
     "duration": 0.023076,
     "end_time": "2023-05-23T08:53:32.316664",
     "exception": false,
     "start_time": "2023-05-23T08:53:32.293588",
     "status": "completed"
    },
    "tags": []
   },
   "outputs": [],
   "source": [
    "# Lines below will give you a hint or solution code\n",
    "#step_5.hint()\n",
    "#step_5.solution_plot()"
   ]
  },
  {
   "cell_type": "markdown",
   "id": "005f8580",
   "metadata": {
    "papermill": {
     "duration": 0.015144,
     "end_time": "2023-05-23T08:53:32.347444",
     "exception": false,
     "start_time": "2023-05-23T08:53:32.332300",
     "status": "completed"
    },
    "tags": []
   },
   "source": [
    "Can you see any interesting patterns in the scatter plot?  We'll investigate this plot further  by adding regression lines in the next step!\n",
    "\n",
    "## Step 6: Investigate chocolate\n",
    "\n",
    "#### Part A\n",
    "\n",
    "Create the same scatter plot you created in **Step 5**, but now with two regression lines, corresponding to (1) chocolate candies and (2) candies without chocolate."
   ]
  },
  {
   "cell_type": "code",
   "execution_count": 18,
   "id": "bcefc62c",
   "metadata": {
    "execution": {
     "iopub.execute_input": "2023-05-23T08:53:32.379831Z",
     "iopub.status.busy": "2023-05-23T08:53:32.379416Z",
     "iopub.status.idle": "2023-05-23T08:53:33.198061Z",
     "shell.execute_reply": "2023-05-23T08:53:33.196959Z"
    },
    "papermill": {
     "duration": 0.838547,
     "end_time": "2023-05-23T08:53:33.201305",
     "exception": false,
     "start_time": "2023-05-23T08:53:32.362758",
     "status": "completed"
    },
    "tags": []
   },
   "outputs": [
    {
     "data": {
      "application/javascript": [
       "parent.postMessage({\"jupyterEvent\": \"custom.exercise_interaction\", \"data\": {\"outcomeType\": 1, \"valueTowardsCompletion\": 0.3333333333333333, \"interactionType\": 1, \"questionType\": 2, \"questionId\": \"6.1_PlotColorReg\", \"learnToolsVersion\": \"0.3.4\", \"failureMessage\": \"\", \"exceptionClass\": \"\", \"trace\": \"\"}}, \"*\")"
      ],
      "text/plain": [
       "<IPython.core.display.Javascript object>"
      ]
     },
     "metadata": {},
     "output_type": "display_data"
    },
    {
     "data": {
      "text/markdown": [
       "<span style=\"color:#33cc33\">Correct</span>"
      ],
      "text/plain": [
       "Correct"
      ]
     },
     "metadata": {},
     "output_type": "display_data"
    },
    {
     "data": {
      "image/png": "[encoded data removed]",
      "text/plain": [
       "<Figure size 578.611x500 with 1 Axes>"
      ]
     },
     "metadata": {},
     "output_type": "display_data"
    }
   ],
   "source": [
    "# Color-coded scatter plot w/ regression lines\n",
    "sns.lmplot(x=\"pricepercent\", y=\"winpercent\", hue=\"chocolate\", data=candy_data)\n",
    " # Your code here\n",
    "\n",
    "# Check your answer\n",
    "step_6.a.check()"
   ]
  },
  {
   "cell_type": "code",
   "execution_count": 19,
   "id": "5b21cd51",
   "metadata": {
    "execution": {
     "iopub.execute_input": "2023-05-23T08:53:33.236474Z",
     "iopub.status.busy": "2023-05-23T08:53:33.236042Z",
     "iopub.status.idle": "2023-05-23T08:53:33.240825Z",
     "shell.execute_reply": "2023-05-23T08:53:33.239706Z"
    },
    "papermill": {
     "duration": 0.025297,
     "end_time": "2023-05-23T08:53:33.243151",
     "exception": false,
     "start_time": "2023-05-23T08:53:33.217854",
     "status": "completed"
    },
    "tags": []
   },
   "outputs": [],
   "source": [
    "# Lines below will give you a hint or solution code\n",
    "#step_6.a.hint()\n",
    "#step_6.a.solution_plot()"
   ]
  },
  {
   "cell_type": "markdown",
   "id": "2483771e",
   "metadata": {
    "papermill": {
     "duration": 0.016228,
     "end_time": "2023-05-23T08:53:33.276258",
     "exception": false,
     "start_time": "2023-05-23T08:53:33.260030",
     "status": "completed"
    },
    "tags": []
   },
   "source": [
    "#### Part B\n",
    "\n",
    "Using the regression lines, what conclusions can you draw about the effects of chocolate and price on candy popularity?"
   ]
  },
  {
   "cell_type": "code",
   "execution_count": 20,
   "id": "026584b7",
   "metadata": {
    "execution": {
     "iopub.execute_input": "2023-05-23T08:53:33.311204Z",
     "iopub.status.busy": "2023-05-23T08:53:33.310776Z",
     "iopub.status.idle": "2023-05-23T08:53:33.315712Z",
     "shell.execute_reply": "2023-05-23T08:53:33.314767Z"
    },
    "papermill": {
     "duration": 0.024975,
     "end_time": "2023-05-23T08:53:33.317842",
     "exception": false,
     "start_time": "2023-05-23T08:53:33.292867",
     "status": "completed"
    },
    "tags": []
   },
   "outputs": [],
   "source": [
    "#step_6.b.hint()"
   ]
  },
  {
   "cell_type": "code",
   "execution_count": 21,
   "id": "0c547c1c",
   "metadata": {
    "execution": {
     "iopub.execute_input": "2023-05-23T08:53:33.353304Z",
     "iopub.status.busy": "2023-05-23T08:53:33.352660Z",
     "iopub.status.idle": "2023-05-23T08:53:33.361904Z",
     "shell.execute_reply": "2023-05-23T08:53:33.360850Z"
    },
    "papermill": {
     "duration": 0.029608,
     "end_time": "2023-05-23T08:53:33.364120",
     "exception": false,
     "start_time": "2023-05-23T08:53:33.334512",
     "status": "completed"
    },
    "tags": []
   },
   "outputs": [
    {
     "data": {
      "application/javascript": [
       "parent.postMessage({\"jupyterEvent\": \"custom.exercise_interaction\", \"data\": {\"interactionType\": 3, \"questionType\": 4, \"questionId\": \"6.2_ThinkColorReg\", \"learnToolsVersion\": \"0.3.4\", \"valueTowardsCompletion\": 0.0, \"failureMessage\": \"\", \"exceptionClass\": \"\", \"trace\": \"\", \"outcomeType\": 4}}, \"*\")"
      ],
      "text/plain": [
       "<IPython.core.display.Javascript object>"
      ]
     },
     "metadata": {},
     "output_type": "display_data"
    },
    {
     "data": {
      "text/markdown": [
       "<span style=\"color:#33cc99\">Solution:</span> We'll begin with the regression line for chocolate candies. Since this line has a slightly positive slope, we can say that more expensive chocolate candies tend to be more popular (than relatively cheaper chocolate candies).  Likewise, since the regression line for candies without chocolate has a negative slope, we can say that if candies don't contain chocolate, they tend to be more popular when they are cheaper.  One important note, however, is that the dataset is quite small -- so we shouldn't invest too much trust in these patterns!  To inspire more confidence in the results, we should add more candies to the dataset."
      ],
      "text/plain": [
       "Solution: We'll begin with the regression line for chocolate candies. Since this line has a slightly positive slope, we can say that more expensive chocolate candies tend to be more popular (than relatively cheaper chocolate candies).  Likewise, since the regression line for candies without chocolate has a negative slope, we can say that if candies don't contain chocolate, they tend to be more popular when they are cheaper.  One important note, however, is that the dataset is quite small -- so we shouldn't invest too much trust in these patterns!  To inspire more confidence in the results, we should add more candies to the dataset."
      ]
     },
     "metadata": {},
     "output_type": "display_data"
    }
   ],
   "source": [
    "# Check your answer (Run this code cell to receive credit!)\n",
    "step_6.b.solution()"
   ]
  },
  {
   "cell_type": "markdown",
   "id": "0ebb40fc",
   "metadata": {
    "papermill": {
     "duration": 0.016515,
     "end_time": "2023-05-23T08:53:33.397446",
     "exception": false,
     "start_time": "2023-05-23T08:53:33.380931",
     "status": "completed"
    },
    "tags": []
   },
   "source": [
    "## Step 7: Everybody loves chocolate.\n",
    "\n",
    "#### Part A\n",
    "\n",
    "Create a categorical scatter plot to highlight the relationship between `'chocolate'` and `'winpercent'`.  Put `'chocolate'` on the (horizontal) x-axis, and `'winpercent'` on the (vertical) y-axis."
   ]
  },
  {
   "cell_type": "code",
   "execution_count": 22,
   "id": "99216591",
   "metadata": {
    "execution": {
     "iopub.execute_input": "2023-05-23T08:53:33.433741Z",
     "iopub.status.busy": "2023-05-23T08:53:33.432656Z",
     "iopub.status.idle": "2023-05-23T08:53:33.890201Z",
     "shell.execute_reply": "2023-05-23T08:53:33.888678Z"
    },
    "papermill": {
     "duration": 0.480001,
     "end_time": "2023-05-23T08:53:33.894295",
     "exception": false,
     "start_time": "2023-05-23T08:53:33.414294",
     "status": "completed"
    },
    "tags": []
   },
   "outputs": [
    {
     "data": {
      "application/javascript": [
       "parent.postMessage({\"jupyterEvent\": \"custom.exercise_interaction\", \"data\": {\"outcomeType\": 1, \"valueTowardsCompletion\": 0.3333333333333333, \"interactionType\": 1, \"questionType\": 2, \"questionId\": \"7.1_PlotSwarm\", \"learnToolsVersion\": \"0.3.4\", \"failureMessage\": \"\", \"exceptionClass\": \"\", \"trace\": \"\"}}, \"*\")"
      ],
      "text/plain": [
       "<IPython.core.display.Javascript object>"
      ]
     },
     "metadata": {},
     "output_type": "display_data"
    },
    {
     "data": {
      "text/markdown": [
       "<span style=\"color:#33cc33\">Correct</span>"
      ],
      "text/plain": [
       "Correct"
      ]
     },
     "metadata": {},
     "output_type": "display_data"
    },
    {
     "data": {
      "image/png": "[encoded data removed]",
      "text/plain": [
       "<Figure size 640x480 with 1 Axes>"
      ]
     },
     "metadata": {},
     "output_type": "display_data"
    }
   ],
   "source": [
    "# Scatter plot showing the relationship between 'chocolate' and 'winpercent'\n",
    "sns.swarmplot(x = candy_data['chocolate'], y = candy_data['winpercent']) # Your code here\n",
    "\n",
    "# Check your answer\n",
    "step_7.a.check()"
   ]
  },
  {
   "cell_type": "code",
   "execution_count": 23,
   "id": "d933aa05",
   "metadata": {
    "execution": {
     "iopub.execute_input": "2023-05-23T08:53:33.951730Z",
     "iopub.status.busy": "2023-05-23T08:53:33.950739Z",
     "iopub.status.idle": "2023-05-23T08:53:33.954874Z",
     "shell.execute_reply": "2023-05-23T08:53:33.954122Z"
    },
    "papermill": {
     "duration": 0.025901,
     "end_time": "2023-05-23T08:53:33.957038",
     "exception": false,
     "start_time": "2023-05-23T08:53:33.931137",
     "status": "completed"
    },
    "tags": []
   },
   "outputs": [],
   "source": [
    "# Lines below will give you a hint or solution code\n",
    "#step_7.a.hint()\n",
    "#step_7.a.solution_plot()"
   ]
  },
  {
   "cell_type": "markdown",
   "id": "9f09c74e",
   "metadata": {
    "papermill": {
     "duration": 0.017989,
     "end_time": "2023-05-23T08:53:33.992900",
     "exception": false,
     "start_time": "2023-05-23T08:53:33.974911",
     "status": "completed"
    },
    "tags": []
   },
   "source": [
    "#### Part B\n",
    "\n",
    "You decide to dedicate a section of your report to the fact that chocolate candies tend to be more popular than candies without chocolate.  Which plot is more appropriate to tell this story: the plot from **Step 6**, or the plot from **Step 7**?"
   ]
  },
  {
   "cell_type": "code",
   "execution_count": 24,
   "id": "7175b7ac",
   "metadata": {
    "execution": {
     "iopub.execute_input": "2023-05-23T08:53:34.031069Z",
     "iopub.status.busy": "2023-05-23T08:53:34.030342Z",
     "iopub.status.idle": "2023-05-23T08:53:34.034254Z",
     "shell.execute_reply": "2023-05-23T08:53:34.033482Z"
    },
    "papermill": {
     "duration": 0.025211,
     "end_time": "2023-05-23T08:53:34.036427",
     "exception": false,
     "start_time": "2023-05-23T08:53:34.011216",
     "status": "completed"
    },
    "tags": []
   },
   "outputs": [],
   "source": [
    "#step_7.b.hint()"
   ]
  },
  {
   "cell_type": "code",
   "execution_count": 25,
   "id": "9fdcc96d",
   "metadata": {
    "execution": {
     "iopub.execute_input": "2023-05-23T08:53:34.074065Z",
     "iopub.status.busy": "2023-05-23T08:53:34.073351Z",
     "iopub.status.idle": "2023-05-23T08:53:34.081090Z",
     "shell.execute_reply": "2023-05-23T08:53:34.080316Z"
    },
    "papermill": {
     "duration": 0.028744,
     "end_time": "2023-05-23T08:53:34.083117",
     "exception": false,
     "start_time": "2023-05-23T08:53:34.054373",
     "status": "completed"
    },
    "tags": []
   },
   "outputs": [
    {
     "data": {
      "application/javascript": [
       "parent.postMessage({\"jupyterEvent\": \"custom.exercise_interaction\", \"data\": {\"interactionType\": 3, \"questionType\": 4, \"questionId\": \"7.2_ThinkSwarm\", \"learnToolsVersion\": \"0.3.4\", \"valueTowardsCompletion\": 0.0, \"failureMessage\": \"\", \"exceptionClass\": \"\", \"trace\": \"\", \"outcomeType\": 4}}, \"*\")"
      ],
      "text/plain": [
       "<IPython.core.display.Javascript object>"
      ]
     },
     "metadata": {},
     "output_type": "display_data"
    },
    {
     "data": {
      "text/markdown": [
       "<span style=\"color:#33cc99\">Solution:</span> In this case, the categorical scatter plot from **Step 7** is the more appropriate plot. While both plots tell the desired story, the plot from **Step 6** conveys far more information that could distract from the main point."
      ],
      "text/plain": [
       "Solution: In this case, the categorical scatter plot from **Step 7** is the more appropriate plot. While both plots tell the desired story, the plot from **Step 6** conveys far more information that could distract from the main point."
      ]
     },
     "metadata": {},
     "output_type": "display_data"
    }
   ],
   "source": [
    "# Check your answer (Run this code cell to receive credit!)\n",
    "step_7.b.solution()"
   ]
  },
  {
   "cell_type": "markdown",
   "id": "ad534978",
   "metadata": {
    "papermill": {
     "duration": 0.017934,
     "end_time": "2023-05-23T08:53:34.119050",
     "exception": false,
     "start_time": "2023-05-23T08:53:34.101116",
     "status": "completed"
    },
    "tags": []
   },
   "source": [
    "## Keep going\n",
    "\n",
    "Explore **[histograms and density plots](https://www.kaggle.com/alexisbcook/distributions)**."
   ]
  },
  {
   "cell_type": "markdown",
   "id": "708481d6",
   "metadata": {
    "papermill": {
     "duration": 0.017809,
     "end_time": "2023-05-23T08:53:34.154707",
     "exception": false,
     "start_time": "2023-05-23T08:53:34.136898",
     "status": "completed"
    },
    "tags": []
   },
   "source": [
    "---\n",
    "\n",
    "\n",
    "\n",
    "\n",
    "*Have questions or comments? Visit the [course discussion forum](https://www.kaggle.com/learn/data-visualization/discussion) to chat with other learners.*"
   ]
  }
 ],
 "metadata": {
  "kernelspec": {
   "display_name": "Python 3",
   "language": "python",
   "name": "python3"
  },
  "language_info": {
   "codemirror_mode": {
    "name": "ipython",
    "version": 3
   },
   "file_extension": ".py",
   "mimetype": "text/x-python",
   "name": "python",
   "nbconvert_exporter": "python",
   "pygments_lexer": "ipython3",
   "version": "3.10.10"
  },
  "papermill": {
   "default_parameters": {},
   "duration": 18.164865,
   "end_time": "2023-05-23T08:53:35.094789",
   "environment_variables": {},
   "exception": null,
   "input_path": "__notebook__.ipynb",
   "output_path": "__notebook__.ipynb",
   "parameters": {},
   "start_time": "2023-05-23T08:53:16.929924",
   "version": "2.4.0"
  }
 },
 "nbformat": 4,
 "nbformat_minor": 5
}
